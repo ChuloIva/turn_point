#!/usr/bin/env python3
"""
UMAP visualization of cognitive transformation activations
"""

import torch
import json
import numpy as np
import umap
import matplotlib.pyplot as plt
from mpl_toolkits.mplot3d import Axes3D
from pathlib import Path
import seaborn as sns

# Set device and paths
device = torch.device('mps' if torch.backends.mps.is_available() else 'cpu')
base_path = Path("/Users/ivanculo/Desktop/Projects/turn_point")
activations_dir = base_path / "activations"

# Load data (same as test_single_pattern.py)
negative_activations = torch.load(activations_dir / "activations_8ff00d963316212d.pt", map_location=device)
positive_activations = torch.load(activations_dir / "activations_e5ad16e9b3c33c9b.pt", map_location=device)
transition_activations = torch.load(activations_dir / "activations_332f24de2a3f82ff.pt", map_location=device)

with open(base_path / "data" / "final" / "enriched_metadata.json", 'r') as f:
    metadata = json.load(f)

# Create pattern indices
pattern_indices = {}
for i, entry in enumerate(metadata):
    pattern_name = entry['bad_good_narratives_match']['cognitive_pattern_name_from_bad_good']
    if pattern_name not in pattern_indices:
        pattern_indices[pattern_name] = []
    pattern_indices[pattern_name].append(i)

layer = 17
first_pattern = list(pattern_indices.keys())[0]

def prepare_data_for_umap(neg_data, pos_data, trans_data, max_samples=1000, subsample_tokens=True):
    """Prepare data for UMAP analysis with aggressive sampling"""
    if subsample_tokens:
        # Take every 8th token and limit samples
        neg_flat = neg_data[:, ::8, :].reshape(-1, neg_data.shape[-1])
        pos_flat = pos_data[:, ::8, :].reshape(-1, pos_data.shape[-1])
        trans_flat = trans_data[:, ::8, :].reshape(-1, trans_data.shape[-1])
    else:
        neg_flat = neg_data.reshape(-1, neg_data.shape[-1])
        pos_flat = pos_data.reshape(-1, pos_data.shape[-1])
        trans_flat = trans_data.reshape(-1, trans_data.shape[-1])
    
    # Subsample to max_samples per category
    if len(neg_flat) > max_samples:
        indices = torch.randperm(len(neg_flat))[:max_samples]
        neg_flat = neg_flat[indices]
    if len(pos_flat) > max_samples:
        indices = torch.randperm(len(pos_flat))[:max_samples]
        pos_flat = pos_flat[indices]
    if len(trans_flat) > max_samples:
        indices = torch.randperm(len(trans_flat))[:max_samples]
        trans_flat = trans_flat[indices]
    
    # Combine data and create labels
    combined_data = torch.cat([neg_flat, pos_flat, trans_flat], dim=0).cpu().numpy()
    labels = ['Negative'] * len(neg_flat) + ['Positive'] * len(pos_flat) + ['Transition'] * len(trans_flat)
    colors = ['red'] * len(neg_flat) + ['green'] * len(pos_flat) + ['blue'] * len(trans_flat)
    
    return combined_data, labels, colors

def plot_umap_2d_3d(data, labels, colors, title_prefix=""):
    """Create 2D and 3D UMAP plots"""
    print(f"Computing UMAP for {len(data)} samples...")
    
    # 2D UMAP with faster parameters
    umap_2d = umap.UMAP(n_components=2, random_state=42, n_neighbors=min(15, len(data)//3), min_dist=0.1, n_jobs=1)
    embedding_2d = umap_2d.fit_transform(data)
    
    # 3D UMAP with faster parameters  
    umap_3d = umap.UMAP(n_components=3, random_state=42, n_neighbors=min(15, len(data)//3), min_dist=0.1, n_jobs=1)
    embedding_3d = umap_3d.fit_transform(data)
    
    # Create plots
    fig = plt.figure(figsize=(15, 6))
    
    # 2D plot
    ax1 = fig.add_subplot(121)
    scatter = ax1.scatter(embedding_2d[:, 0], embedding_2d[:, 1], c=colors, alpha=0.6, s=1)
    ax1.set_title(f'{title_prefix}2D UMAP')
    ax1.set_xlabel('UMAP 1')
    ax1.set_ylabel('UMAP 2')
    
    # Create legend
    unique_labels = list(set(labels))
    unique_colors = ['red', 'green', 'blue']
    for label, color in zip(unique_labels, unique_colors):
        ax1.scatter([], [], c=color, label=label, s=20)
    ax1.legend()
    
    # 3D plot
    ax2 = fig.add_subplot(122, projection='3d')
    ax2.scatter(embedding_3d[:, 0], embedding_3d[:, 1], embedding_3d[:, 2], c=colors, alpha=0.6, s=1)
    ax2.set_title(f'{title_prefix}3D UMAP')
    ax2.set_xlabel('UMAP 1')
    ax2.set_ylabel('UMAP 2')
    ax2.set_zlabel('UMAP 3')
    
    plt.tight_layout()
    plt.show()
    
    return embedding_2d, embedding_3d

print("🔍 UMAP Analysis of Cognitive Transformations")
print("=" * 50)

# 1. Full dataset UMAP (all patterns, all tokens subsampled)
print("\n1. Full Dataset UMAP (all patterns)")
all_indices = [i for indices_list in pattern_indices.values() for i in indices_list]
neg_all = negative_activations[f'negative_layer_{layer}'][all_indices]
pos_all = positive_activations[f'positive_layer_{layer}'][all_indices]
trans_all = transition_activations[f'transition_layer_{layer}'][all_indices]

print(f"Full data shapes - Neg: {neg_all.shape}, Pos: {pos_all.shape}, Trans: {trans_all.shape}")

data_all, labels_all, colors_all = prepare_data_for_umap(neg_all, pos_all, trans_all)
print(f"Combined data shape: {data_all.shape}")

embedding_2d_all, embedding_3d_all = plot_umap_2d_3d(data_all, labels_all, colors_all, "Full Dataset - ")

# 2. Single cognitive pattern UMAP
print(f"\n2. Single Pattern UMAP: {first_pattern}")
indices = pattern_indices[first_pattern]
neg_single = negative_activations[f'negative_layer_{layer}'][indices]
pos_single = positive_activations[f'positive_layer_{layer}'][indices]
trans_single = transition_activations[f'transition_layer_{layer}'][indices]

print(f"Single pattern data shapes - Neg: {neg_single.shape}, Pos: {pos_single.shape}, Trans: {trans_single.shape}")

data_single, labels_single, colors_single = prepare_data_for_umap(neg_single, pos_single, trans_single)
embedding_2d_single, embedding_3d_single = plot_umap_2d_3d(data_single, labels_single, colors_single, f"{first_pattern} - ")

# 3. Last token only UMAP (single pattern)
print(f"\n3. Last Token Only UMAP: {first_pattern}")
neg_last = neg_single[:, -1, :].unsqueeze(1)  # Keep token dimension
pos_last = pos_single[:, -1, :].unsqueeze(1)
trans_last = trans_single[:, -1, :].unsqueeze(1)

print(f"Last token shapes - Neg: {neg_last.shape}, Pos: {pos_last.shape}, Trans: {trans_last.shape}")

data_last, labels_last, colors_last = prepare_data_for_umap(neg_last, pos_last, trans_last, subsample_tokens=False)
embedding_2d_last, embedding_3d_last = plot_umap_2d_3d(data_last, labels_last, colors_last, "Last Token Only - ")

print("\n✅ UMAP Analysis Complete!")
print(f"📊 Analyzed {len(all_indices)} total samples across {len(pattern_indices)} cognitive patterns")
print(f"🎯 Single pattern '{first_pattern}' had {len(indices)} samples")
print(f"🔬 Layer {layer} activations visualized in 2D and 3D space")