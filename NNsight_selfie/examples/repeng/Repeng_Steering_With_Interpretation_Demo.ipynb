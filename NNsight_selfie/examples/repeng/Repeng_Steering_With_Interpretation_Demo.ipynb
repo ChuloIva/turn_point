{
 "cells": [
  {
   "cell_type": "markdown",
   "id": "intro",
   "metadata": {},
   "source": [
    "# Repeng-Style Multi-Layer Steering with Interpretation\n",
    "\n",
    "This notebook combines the power of **Repeng-style multi-layer steering** with **rich interpretation workflows** to understand what happens when we inject steering vectors across multiple layers.\n",
    "\n",
    "## Key Features:\n",
    "1. **Multi-layer activation extraction**: Extract activations from all transformer layers\n",
    "2. **PCA-based steering vector generation**: Use repeng's methodology for steering\n",
    "3. **Multi-layer injection with interpretation**: Inject steering vectors and interpret the results\n",
    "4. **Before/after analysis**: Compare model behavior before and after steering\n",
    "5. **Layer-wise interpretation**: Understand how different layers respond to steering\n",
    "\n",
    "## Workflow:\n",
    "1. Generate persona-based dataset (happy vs sad)\n",
    "2. Extract activations and create steering vectors\n",
    "3. Apply steering vectors to test prompts\n",
    "4. Interpret both baseline and steered activations\n",
    "5. Analyze the differences in interpretation"
   ]
  },
  {
   "cell_type": "markdown",
   "id": "setup_header",
   "metadata": {},
   "source": [
    "## Setup and Imports"
   ]
  },
  {
   "cell_type": "code",
   "execution_count": 1,
   "id": "imports",
   "metadata": {},
   "outputs": [
    {
     "name": "stdout",
     "output_type": "stream",
     "text": [
      "✅ All imports successful!\n",
      "=== Device Information ===\n",
      "Platform: Linux x86_64\n",
      "Python: 3.12.3\n",
      "PyTorch: 2.4.1+rocm6.0\n",
      "Optimal Device: cuda\n",
      "\n",
      "=== MPS Support ===\n",
      "MPS Available: False\n",
      "MPS Built: False\n",
      "\n",
      "=== CUDA Support ===\n",
      "CUDA Available: True\n",
      "CUDA Version: None\n",
      "Device Count: 1\n",
      "Primary Device: AMD Radeon RX 7700 XT\n",
      "\n"
     ]
    }
   ],
   "source": [
    "# FOR AMD GPU compatibility\n",
    "import os\n",
    "os.environ[\"HSA_OVERRIDE_GFX_VERSION\"] = \"11.0.0\"\n",
    "os.environ[\"HIP_VISIBLE_DEVICES\"] = \"0\"\n",
    "os.environ[\"AMD_SERIALIZE_KERNEL\"] = \"3\"\n",
    "os.environ[\"TORCH_USE_HIP_DSA\"] = \"1\"\n",
    "\n",
    "import torch\n",
    "import numpy as np\n",
    "import matplotlib.pyplot as plt\n",
    "import seaborn as sns\n",
    "import pandas as pd\n",
    "from tqdm import tqdm\n",
    "import warnings\n",
    "warnings.filterwarnings('ignore')\n",
    "\n",
    "# Import NNsight and transformers\n",
    "from transformers import AutoTokenizer\n",
    "import nnsight\n",
    "\n",
    "# Import Repeng utilities\n",
    "from nnsight_selfie import (\n",
    "    RepengDatasetGenerator,\n",
    "    RepengActivationExtractor, \n",
    "    RepengSteeringVectorGenerator,\n",
    "    RepengMultiLayerInjector,\n",
    "    DatasetEntry,\n",
    "    SteeringVector,\n",
    "    create_quick_dataset,\n",
    "    extract_repeng_activations,\n",
    "    create_steering_vector,\n",
    "    inject_multi_layer\n",
    ")\n",
    "\n",
    "# Import interpretation utilities from Gemma2 demo workflow\n",
    "from nnsight_selfie import (\n",
    "    ModelAgnosticSelfie, \n",
    "    InterpretationPrompt, \n",
    "    print_device_info, \n",
    "    get_optimal_device\n",
    ")\n",
    "\n",
    "# Import combined steering + interpretation utilities\n",
    "from nnsight_selfie import (\n",
    "    RepengInterpretationAnalyzer,\n",
    "    SteeringInterpretationResult,\n",
    "    create_interpretation_comparison_plot,\n",
    "    quick_steering_interpretation_analysis\n",
    ")\n",
    "\n",
    "print(\"✅ All imports successful!\")\n",
    "print_device_info()"
   ]
  },
  {
   "cell_type": "markdown",
   "id": "model_setup_header",
   "metadata": {},
   "source": [
    "## Model Setup"
   ]
  },
  {
   "cell_type": "code",
   "execution_count": 2,
   "id": "model_setup",
   "metadata": {},
   "outputs": [
    {
     "name": "stdout",
     "output_type": "stream",
     "text": [
      "Loading model: google/gemma-3-4b-it\n",
      "Loading single model instance for both steering and interpretation...\n",
      "Creating interpretation wrapper...\n",
      "Using existing model instance...\n",
      "Filtered out vision components for Gemma 3 4B model.\n",
      "Model loaded successfully with 35 layers detected.\n",
      "✅ Shared model loaded on: meta\n",
      "✅ Model has 35 transformer layers\n",
      "📊 Memory efficient: Using single model instance for both operations\n"
     ]
    }
   ],
   "source": [
    "# Configuration\n",
    "MODEL_NAME = \"google/gemma-3-4b-it\"  # Use the same model as other demos\n",
    "\n",
    "print(f\"Loading model: {MODEL_NAME}\")\n",
    "\n",
    "# Load tokenizer\n",
    "tokenizer = AutoTokenizer.from_pretrained(MODEL_NAME)\n",
    "if tokenizer.pad_token is None:\n",
    "    tokenizer.pad_token = tokenizer.eos_token\n",
    "\n",
    "# Load model ONCE with NNsight for all operations\n",
    "print(\"Loading single model instance for both steering and interpretation...\")\n",
    "shared_model = nnsight.LanguageModel(\n",
    "    MODEL_NAME,\n",
    "    device_map=\"auto\",\n",
    "    dtype=torch.bfloat16,\n",
    "    low_cpu_mem_usage=False\n",
    ")\n",
    "\n",
    "# Use the shared model for steering operations\n",
    "steering_model = shared_model\n",
    "\n",
    "# Create interpretation model that reuses the same underlying model\n",
    "print(\"Creating interpretation wrapper...\")\n",
    "interpretation_model = ModelAgnosticSelfie(\n",
    "    model_name_or_path=MODEL_NAME,  # Still pass model name for filtering logic\n",
    "    model_instance=shared_model,    # Pass existing model to reuse it\n",
    "    tokenizer=tokenizer\n",
    ")\n",
    "\n",
    "print(f\"✅ Shared model loaded on: {shared_model.device}\")\n",
    "print(f\"✅ Model has {len(interpretation_model.layer_paths)} transformer layers\")\n",
    "print(f\"📊 Memory efficient: Using single model instance for both operations\")"
   ]
  },
  {
   "cell_type": "markdown",
   "id": "dataset_creation_header",
   "metadata": {},
   "source": [
    "## Dataset Creation for Steering"
   ]
  },
  {
   "cell_type": "code",
   "execution_count": 3,
   "id": "create_dataset",
   "metadata": {},
   "outputs": [
    {
     "name": "stdout",
     "output_type": "stream",
     "text": [
      "Loaded 562 truncated outputs from repeng data\n",
      "Generated 423 truncated suffixes\n",
      "Generated dataset with 1692 entries\n",
      "Created dataset with 1692 entries\n",
      "\n",
      "Sample entries:\n",
      "  Positive: Act as if you're extremely happy. That\n",
      "  Negative: Act as if you're extremely sad. That\n",
      "\n",
      "  Positive: Act as if you're extremely joyful. That\n",
      "  Negative: Act as if you're extremely depressed. That\n",
      "\n",
      "  Positive: Act as if you're extremely cheerful. That\n",
      "  Negative: Act as if you're extremely pessimistic. That\n",
      "\n"
     ]
    }
   ],
   "source": [
    "# Create dataset for emotion steering (happy vs sad)\n",
    "PERSONA_CATEGORY = \"emotion\"  # happy vs sad steering\n",
    "TEMPLATE_TYPE = \"emotion\"\n",
    "MAX_SUFFIXES = 200  # Smaller dataset for demo\n",
    "\n",
    "dataset = create_quick_dataset(\n",
    "    tokenizer=tokenizer,\n",
    "    persona_category=PERSONA_CATEGORY,\n",
    "    template_type=TEMPLATE_TYPE,\n",
    "    max_suffixes=MAX_SUFFIXES\n",
    ")\n",
    "\n",
    "print(f\"Created dataset with {len(dataset)} entries\")\n",
    "print(\"\\nSample entries:\")\n",
    "for i in range(3):\n",
    "    entry = dataset[i]\n",
    "    print(f\"  Positive: {entry.positive}\")\n",
    "    print(f\"  Negative: {entry.negative}\")\n",
    "    print()"
   ]
  },
  {
   "cell_type": "markdown",
   "id": "activation_extraction_header",
   "metadata": {},
   "source": [
    "## Multi-Layer Activation Extraction and Steering Vector Creation"
   ]
  },
  {
   "cell_type": "code",
   "execution_count": 4,
   "id": "extract_activations",
   "metadata": {},
   "outputs": [
    {
     "name": "stdout",
     "output_type": "stream",
     "text": [
      "Initialized activation extractor for 64 layers\n",
      "Total layers: 64\n",
      "Extracting from layer range: -15 to -5\n",
      "\n",
      "Extracting activations from dataset...\n",
      "Initialized activation extractor for 64 layers\n"
     ]
    },
    {
     "name": "stderr",
     "output_type": "stream",
     "text": [
      "Extracting activations:   0%|          | 0/846 [00:00<?, ?it/s]"
     ]
    },
    {
     "data": {
      "application/vnd.jupyter.widget-view+json": {
       "model_id": "544342d6f9074ea280279e4d82fa379f",
       "version_major": 2,
       "version_minor": 0
      },
      "text/plain": [
       "Loading checkpoint shards:   0%|          | 0/2 [00:00<?, ?it/s]"
      ]
     },
     "metadata": {},
     "output_type": "display_data"
    },
    {
     "name": "stderr",
     "output_type": "stream",
     "text": [
      "Extracting activations: 100%|██████████| 846/846 [02:06<00:00,  6.69it/s]"
     ]
    },
    {
     "name": "stdout",
     "output_type": "stream",
     "text": [
      "Extracted activations for 3384 inputs across 11 layers\n",
      "Extracted activations from layer range [49, 50, 51, 52, 53, 54, 55, 56, 57, 58, 59]\n",
      "\n",
      "Extracted activations:\n",
      "  Layer 49: torch.Size([3384, 2560])\n",
      "  Layer 50: torch.Size([3384, 2560])\n",
      "  Layer 51: torch.Size([3384, 2560])\n",
      "  Layer 52: torch.Size([3384, 2560])\n",
      "  Layer 53: torch.Size([3384, 2560])\n",
      "  Layer 54: torch.Size([3384, 2560])\n",
      "  Layer 55: torch.Size([3384, 2560])\n",
      "  Layer 56: torch.Size([3384, 2560])\n",
      "  Layer 57: torch.Size([3384, 2560])\n",
      "  Layer 58: torch.Size([3384, 2560])\n",
      "  Layer 59: torch.Size([3384, 2560])\n",
      "\n",
      "Selected layers: [49, 50, 51, 52, 53, 54, 55, 56, 57, 58, 59]\n"
     ]
    },
    {
     "name": "stderr",
     "output_type": "stream",
     "text": [
      "\n"
     ]
    }
   ],
   "source": [
    "# Create activation extractor\n",
    "extractor = RepengActivationExtractor(steering_model, tokenizer)\n",
    "\n",
    "# Select layer range (use middle-to-late layers for steering)\n",
    "layer_info = extractor.get_layer_info()\n",
    "total_layers = layer_info['total_layers']\n",
    "start_layer = -15  # Last 15 layers\n",
    "end_layer = -5     # Stop before very last layers\n",
    "\n",
    "print(f\"Total layers: {total_layers}\")\n",
    "print(f\"Extracting from layer range: {start_layer} to {end_layer}\")\n",
    "\n",
    "# Extract activations\n",
    "print(\"\\nExtracting activations from dataset...\")\n",
    "activations, input_texts = extract_repeng_activations(\n",
    "    model=steering_model,\n",
    "    tokenizer=tokenizer,\n",
    "    dataset=dataset,\n",
    "    layer_range=(start_layer, end_layer),\n",
    "    batch_size=4  # Smaller batch for demo\n",
    ")\n",
    "\n",
    "print(f\"\\nExtracted activations:\")\n",
    "for layer_idx, acts in activations.items():\n",
    "    print(f\"  Layer {layer_idx}: {acts.shape}\")\n",
    "    \n",
    "selected_layers = list(activations.keys())\n",
    "print(f\"\\nSelected layers: {selected_layers}\")"
   ]
  },
  {
   "cell_type": "code",
   "execution_count": 5,
   "id": "create_steering_vectors",
   "metadata": {},
   "outputs": [
    {
     "name": "stdout",
     "output_type": "stream",
     "text": [
      "\n",
      "Generating steering vector using mean_diff...\n",
      "Generated steering vectors for 11 layers using mean_diff\n",
      "Method mean_diff - Accuracy: 0.996, Cohen's d: 2.752\n",
      "\n",
      "Generating steering vector using pca_diff...\n",
      "Generated steering vectors for 11 layers using pca_diff\n",
      "Method pca_diff - Accuracy: 0.537, Cohen's d: 0.097\n",
      "\n",
      "Generating steering vector using pca_center...\n",
      "Generated steering vectors for 11 layers using pca_center\n",
      "Method pca_center - Accuracy: 0.901, Cohen's d: 1.483\n",
      "\n",
      "🏆 Best method: mean_diff\n",
      "   Accuracy: 0.996\n",
      "   Cohen's d: 2.752\n"
     ]
    }
   ],
   "source": [
    "# Generate steering vectors using the best method from the original demo\n",
    "vector_generator = RepengSteeringVectorGenerator(model_type=MODEL_NAME)\n",
    "\n",
    "# Test different methods and select the best one\n",
    "methods = [\"mean_diff\", \"pca_diff\", \"pca_center\"]\n",
    "steering_vectors = {}\n",
    "evaluations = {}\n",
    "\n",
    "for method in methods:\n",
    "    print(f\"\\nGenerating steering vector using {method}...\")\n",
    "    \n",
    "    steering_vector = vector_generator.generate_steering_vectors(\n",
    "        activations=activations,\n",
    "        method=method,\n",
    "        whiten=False\n",
    "    )\n",
    "    \n",
    "    steering_vectors[method] = steering_vector\n",
    "    \n",
    "    # Evaluate the steering vector\n",
    "    evaluation = vector_generator.evaluate_steering_vector(\n",
    "        steering_vector, activations, verbose=False\n",
    "    )\n",
    "    evaluations[method] = evaluation\n",
    "    \n",
    "    print(f\"Method {method} - Accuracy: {evaluation['overall']['accuracy']:.3f}, Cohen's d: {evaluation['overall']['cohens_d']:.3f}\")\n",
    "\n",
    "# Select best method\n",
    "best_method = max(evaluations.keys(), key=lambda k: evaluations[k]['overall']['accuracy'])\n",
    "best_steering_vector = steering_vectors[best_method]\n",
    "\n",
    "print(f\"\\n🏆 Best method: {best_method}\")\n",
    "print(f\"   Accuracy: {evaluations[best_method]['overall']['accuracy']:.3f}\")\n",
    "print(f\"   Cohen's d: {evaluations[best_method]['overall']['cohens_d']:.3f}\")"
   ]
  },
  {
   "cell_type": "markdown",
   "id": "interpretation_setup_header",
   "metadata": {},
   "source": [
    "## Set Up Interpretation Prompts\n",
    "\n",
    "Create custom interpretation prompts to understand what the model represents before and after steering."
   ]
  },
  {
   "cell_type": "code",
   "execution_count": 6,
   "id": "setup_interpretation_prompts",
   "metadata": {},
   "outputs": [
    {
     "name": "stdout",
     "output_type": "stream",
     "text": [
      "Created interpretation prompts:\n",
      "  Emotion: 'This neural pattern represents the emotion of _ '\n",
      "  Sentiment: 'The sentiment expressed here is _ '\n",
      "  Concept: 'This _ _ _ _ _ represents the concept of'\n",
      "  Affect: 'The emotional tone captured in this activation is _ '\n"
     ]
    }
   ],
   "source": [
    "# Create interpretation prompts similar to Gemma2 demo\n",
    "emotion_prompt = InterpretationPrompt(\n",
    "    tokenizer,\n",
    "    [\"This neural pattern represents the emotion of \", None]\n",
    ")\n",
    "\n",
    "sentiment_prompt = InterpretationPrompt(\n",
    "    tokenizer,\n",
    "    [\"The sentiment expressed here is \", None]\n",
    ")\n",
    "\n",
    "concept_prompt = InterpretationPrompt.create_concept_prompt(tokenizer)\n",
    "\n",
    "affect_prompt = InterpretationPrompt(\n",
    "    tokenizer,\n",
    "    [\"The emotional tone captured in this activation is \", None]\n",
    ")\n",
    "\n",
    "print(\"Created interpretation prompts:\")\n",
    "print(f\"  Emotion: '{emotion_prompt.get_prompt()}'\")\n",
    "print(f\"  Sentiment: '{sentiment_prompt.get_prompt()}'\")\n",
    "print(f\"  Concept: '{concept_prompt.get_prompt()}'\")\n",
    "print(f\"  Affect: '{affect_prompt.get_prompt()}'\")\n",
    "\n",
    "# Dictionary for easy access\n",
    "interpretation_prompts = {\n",
    "    \"emotion\": emotion_prompt,\n",
    "    \"sentiment\": sentiment_prompt,\n",
    "    \"concept\": concept_prompt,\n",
    "    \"affect\": affect_prompt\n",
    "}"
   ]
  },
  {
   "cell_type": "markdown",
   "id": "baseline_interpretation_header",
   "metadata": {},
   "source": [
    "## Baseline Interpretation (Before Steering)\n",
    "\n",
    "First, let's understand what the model represents for neutral prompts without any steering."
   ]
  },
  {
   "cell_type": "code",
   "execution_count": 8,
   "id": "baseline_interpretation",
   "metadata": {},
   "outputs": [
    {
     "name": "stdout",
     "output_type": "stream",
     "text": [
      "🔍 Baseline Interpretation (No Steering)\n",
      "==================================================\n",
      "Interpreting at layers: [49, 52, 55, 58]\n",
      "\n",
      "--- Prompt: 'Today will be' ---\n",
      "Interpreting 'Today will be' with 'The sentiment expressed here is _ '\n"
     ]
    },
    {
     "name": "stderr",
     "output_type": "stream",
     "text": [
      "  0%|          | 0/1 [00:00<?, ?it/s]"
     ]
    },
    {
     "name": "stdout",
     "output_type": "stream",
     "text": [
      "  Layer 49: ❌ Error - 49...\n",
      "Interpreting 'Today will be' with 'The sentiment expressed here is _ '\n"
     ]
    },
    {
     "name": "stderr",
     "output_type": "stream",
     "text": [
      "\n",
      "  0%|          | 0/1 [00:00<?, ?it/s]\n"
     ]
    },
    {
     "name": "stdout",
     "output_type": "stream",
     "text": [
      "  Layer 52: ❌ Error - 52...\n",
      "Interpreting 'Today will be' with 'The sentiment expressed here is _ '\n"
     ]
    },
    {
     "name": "stderr",
     "output_type": "stream",
     "text": [
      "  0%|          | 0/1 [00:00<?, ?it/s]\n"
     ]
    },
    {
     "name": "stdout",
     "output_type": "stream",
     "text": [
      "  Layer 55: ❌ Error - 55...\n",
      "\n",
      "--- Prompt: 'I'm feeling' ---\n",
      "Interpreting 'I'm feeling' with 'The sentiment expressed here is _ '\n"
     ]
    },
    {
     "name": "stderr",
     "output_type": "stream",
     "text": [
      "  0%|          | 0/1 [00:00<?, ?it/s]\n"
     ]
    },
    {
     "name": "stdout",
     "output_type": "stream",
     "text": [
      "  Layer 49: ❌ Error - 49...\n",
      "Interpreting 'I'm feeling' with 'The sentiment expressed here is _ '\n"
     ]
    },
    {
     "name": "stderr",
     "output_type": "stream",
     "text": [
      "  0%|          | 0/1 [00:00<?, ?it/s]\n"
     ]
    },
    {
     "name": "stdout",
     "output_type": "stream",
     "text": [
      "  Layer 52: ❌ Error - 52...\n",
      "Interpreting 'I'm feeling' with 'The sentiment expressed here is _ '\n"
     ]
    },
    {
     "name": "stderr",
     "output_type": "stream",
     "text": [
      "  0%|          | 0/1 [00:00<?, ?it/s]\n"
     ]
    },
    {
     "name": "stdout",
     "output_type": "stream",
     "text": [
      "  Layer 55: ❌ Error - 55...\n",
      "\n",
      "--- Prompt: 'The weather looks' ---\n",
      "Interpreting 'The weather looks' with 'The sentiment expressed here is _ '\n"
     ]
    },
    {
     "name": "stderr",
     "output_type": "stream",
     "text": [
      "  0%|          | 0/1 [00:00<?, ?it/s]\n"
     ]
    },
    {
     "name": "stdout",
     "output_type": "stream",
     "text": [
      "  Layer 49: ❌ Error - 49...\n",
      "Interpreting 'The weather looks' with 'The sentiment expressed here is _ '\n"
     ]
    },
    {
     "name": "stderr",
     "output_type": "stream",
     "text": [
      "  0%|          | 0/1 [00:00<?, ?it/s]\n"
     ]
    },
    {
     "name": "stdout",
     "output_type": "stream",
     "text": [
      "  Layer 52: ❌ Error - 52...\n",
      "Interpreting 'The weather looks' with 'The sentiment expressed here is _ '\n"
     ]
    },
    {
     "name": "stderr",
     "output_type": "stream",
     "text": [
      "  0%|          | 0/1 [00:00<?, ?it/s]"
     ]
    },
    {
     "name": "stdout",
     "output_type": "stream",
     "text": [
      "  Layer 55: ❌ Error - 55...\n"
     ]
    },
    {
     "name": "stderr",
     "output_type": "stream",
     "text": [
      "\n"
     ]
    }
   ],
   "source": [
    "# Test prompts for interpretation (neutral, not obviously emotional)\n",
    "test_prompts = [\n",
    "    \"Today will be\",\n",
    "    \"I'm feeling\",\n",
    "    \"The weather looks\",\n",
    "    \"My day started\",\n",
    "    \"Everything seems\"\n",
    "]\n",
    "\n",
    "print(\"🔍 Baseline Interpretation (No Steering)\")\n",
    "print(\"=\" * 50)\n",
    "\n",
    "# Store baseline results for comparison\n",
    "baseline_results = {}\n",
    "\n",
    "# Select a few representative layers for interpretation\n",
    "interpretation_layers = selected_layers[::3]  # Every 3rd layer\n",
    "print(f\"Interpreting at layers: {interpretation_layers}\")\n",
    "\n",
    "for prompt in test_prompts[:3]:  # Limit for demo\n",
    "    print(f\"\\n--- Prompt: '{prompt}' ---\")\n",
    "    \n",
    "    # Tokenize to find last token position\n",
    "    tokens = tokenizer.encode(prompt)\n",
    "    last_token_pos = len(tokenizer.tokenize(prompt)) - 1\n",
    "    \n",
    "    baseline_results[prompt] = {}\n",
    "    \n",
    "    # Interpret at different layers\n",
    "    for layer in interpretation_layers[:3]:  # Limit layers for demo\n",
    "        try:\n",
    "            # Use sentiment prompt to understand baseline emotional associations\n",
    "            result = interpretation_model.interpret(\n",
    "                original_prompt=prompt,\n",
    "                interpretation_prompt=sentiment_prompt,\n",
    "                tokens_to_interpret=[(layer, last_token_pos)],\n",
    "                max_new_tokens=8\n",
    "            )\n",
    "            \n",
    "            interpretation = result['interpretation'][0].strip()\n",
    "            baseline_results[prompt][layer] = interpretation\n",
    "            \n",
    "            print(f\"  Layer {layer:2d}: {interpretation}\")\n",
    "            \n",
    "        except Exception as e:\n",
    "            print(f\"  Layer {layer:2d}: ❌ Error - {str(e)[:500]}...\")\n",
    "            baseline_results[prompt][layer] = \"[Error]\""
   ]
  },
  {
   "cell_type": "markdown",
   "id": "steering_with_interpretation_header",
   "metadata": {},
   "source": [
    "## Steering with Interpretation\n",
    "\n",
    "Now let's apply the steering vectors and interpret what happens to the model's internal representations."
   ]
  },
  {
   "cell_type": "code",
   "execution_count": 9,
   "id": "steering_with_interpretation",
   "metadata": {},
   "outputs": [
    {
     "name": "stdout",
     "output_type": "stream",
     "text": [
      "🎯 Steering with Interpretation\n",
      "==================================================\n",
      "\n",
      "=== Prompt: 'Today will be' ===\n",
      "\n",
      "--- Strength: 1.0 (Happy) ---\n",
      "Baseline:  a good day. ☀️\n",
      "I'm so excited to see what\n",
      "Steered:   a good day.\n",
      "\n",
      "I'm not sure why, but I just\n",
      "\n",
      "--- Strength: -1.0 (Sad) ---\n",
      "Baseline:  a good day.\n",
      "\n",
      "I'm trying to start the day with a\n",
      "Steered:   a busy day for the city.\n",
      "\n",
      "**Here's a breakdown of\n",
      "\n",
      "--- Strength: 2.0 (Happy) ---\n",
      "Baseline:  a day of reflection, introspection, and possibly some unexpected surprises. Your intuition\n",
      "Steered:   a busy day!\n",
      "\n",
      "**Morning:**\n",
      "\n",
      "*   8:00\n",
      "\n",
      "=== Prompt: 'I'm feeling' ===\n",
      "\n",
      "--- Strength: 1.0 (Happy) ---\n",
      "Baseline:  a bit overwhelmed by the sheer amount of information out there about skincare, and\n",
      "Steered:   a little overwhelmed by the sheer number of options available for a project management tool\n",
      "\n",
      "--- Strength: -1.0 (Sad) ---\n",
      "Baseline:  a bit lost and overwhelmed with the amount of information available online. It'\n",
      "Steered:   a bit down today, and I just want to curl up and watch a\n",
      "\n",
      "--- Strength: 2.0 (Happy) ---\n",
      "Baseline:  a bit lost and overwhelmed. I've been struggling with anxiety and depression\n",
      "Steered:   a bit lost and overwhelmed. I've been dealing with a lot of\n"
     ]
    }
   ],
   "source": [
    "# Create multi-layer injector\n",
    "injector = RepengMultiLayerInjector(steering_model, tokenizer)\n",
    "\n",
    "print(\"🎯 Steering with Interpretation\")\n",
    "print(\"=\" * 50)\n",
    "\n",
    "# Test different steering strengths\n",
    "steering_strengths = [1.0, -1.0, 2.0]  # Positive = happy, Negative = sad\n",
    "\n",
    "steering_results = {}\n",
    "\n",
    "for prompt in test_prompts[:2]:  # Limit for demo\n",
    "    print(f\"\\n=== Prompt: '{prompt}' ===\")\n",
    "    \n",
    "    tokens = tokenizer.tokenize(prompt)\n",
    "    last_token_pos = len(tokens) - 1\n",
    "    \n",
    "    steering_results[prompt] = {}\n",
    "    \n",
    "    for strength in steering_strengths:\n",
    "        print(f\"\\n--- Strength: {strength} ({'Happy' if strength > 0 else 'Sad'}) ---\")\n",
    "        \n",
    "        # Generate text with steering for comparison\n",
    "        try:\n",
    "            comparison_result = injector.compare_with_without_injection(\n",
    "                prompt=prompt,\n",
    "                steering_vector=best_steering_vector,\n",
    "                injection_positions=[last_token_pos],\n",
    "                injection_strength=strength,\n",
    "                injection_mode=\"addition\",\n",
    "                max_new_tokens=15\n",
    "            )\n",
    "            \n",
    "            baseline_text = comparison_result['baseline']['generated_text'].strip()\n",
    "            steered_text = comparison_result['injection']['generated_text'].strip()\n",
    "            \n",
    "            print(f\"Baseline:  {baseline_text}\")\n",
    "            print(f\"Steered:   {steered_text}\")\n",
    "            \n",
    "            # Store results\n",
    "            steering_results[prompt][strength] = {\n",
    "                'baseline': baseline_text,\n",
    "                'steered': steered_text\n",
    "            }\n",
    "            \n",
    "        except Exception as e:\n",
    "            print(f\"❌ Error in generation: {str(e)[:100]}...\")\n",
    "            continue"
   ]
  },
  {
   "cell_type": "markdown",
   "id": "activation_interpretation_header",
   "metadata": {},
   "source": [
    "## Interpret Steered Activations\n",
    "\n",
    "The most interesting part: let's extract and interpret the activations after steering to understand how the internal representations changed."
   ]
  },
  {
   "cell_type": "code",
   "execution_count": 10,
   "id": "interpret_steered_activations",
   "metadata": {},
   "outputs": [
    {
     "name": "stdout",
     "output_type": "stream",
     "text": [
      "🧠 Interpreting Steered Activations\n",
      "==================================================\n",
      "Analyzing: 'Today will be' with strength 2.0\n",
      "\n",
      "Comparing interpretations across layers:\n",
      "Injection position: 2 ('▁be')\n",
      "\n",
      "--- Layer 49 ---\n",
      "Baseline interpretation: [Error]\n"
     ]
    },
    {
     "name": "stderr",
     "output_type": "stream",
     "text": [
      "  0%|          | 0/1 [00:00<?, ?it/s]\n"
     ]
    },
    {
     "name": "stdout",
     "output_type": "stream",
     "text": [
      "❌ Error interpreting steering vector: 'numpy.ndarray' object has no attribute 'unsqueeze...\n",
      "\n",
      "--- Layer 52 ---\n",
      "Baseline interpretation: [Error]\n"
     ]
    },
    {
     "name": "stderr",
     "output_type": "stream",
     "text": [
      "  0%|          | 0/1 [00:00<?, ?it/s]\n"
     ]
    },
    {
     "name": "stdout",
     "output_type": "stream",
     "text": [
      "❌ Error interpreting steering vector: 'numpy.ndarray' object has no attribute 'unsqueeze...\n",
      "\n",
      "--- Layer 55 ---\n",
      "Baseline interpretation: [Error]\n"
     ]
    },
    {
     "name": "stderr",
     "output_type": "stream",
     "text": [
      "  0%|          | 0/1 [00:00<?, ?it/s]\n"
     ]
    },
    {
     "name": "stdout",
     "output_type": "stream",
     "text": [
      "❌ Error interpreting steering vector: 'numpy.ndarray' object has no attribute 'unsqueeze...\n",
      "\n",
      "--- Layer 58 ---\n",
      "Baseline interpretation: [Not computed]\n"
     ]
    },
    {
     "name": "stderr",
     "output_type": "stream",
     "text": [
      "  0%|          | 0/1 [00:00<?, ?it/s]"
     ]
    },
    {
     "name": "stdout",
     "output_type": "stream",
     "text": [
      "❌ Error interpreting steering vector: 'numpy.ndarray' object has no attribute 'unsqueeze...\n"
     ]
    },
    {
     "name": "stderr",
     "output_type": "stream",
     "text": [
      "\n"
     ]
    }
   ],
   "source": [
    "print(\"🧠 Interpreting Steered Activations\")\n",
    "print(\"=\" * 50)\n",
    "\n",
    "# Select one prompt for detailed analysis\n",
    "analysis_prompt = test_prompts[0]  # \"Today will be\"\n",
    "analysis_strength = 2.0  # Strong positive (happy) steering\n",
    "\n",
    "print(f\"Analyzing: '{analysis_prompt}' with strength {analysis_strength}\")\n",
    "\n",
    "# We need to extract activations DURING steering\n",
    "# This requires a custom approach since we need to capture intermediate states\n",
    "\n",
    "tokens = tokenizer.tokenize(analysis_prompt)\n",
    "last_token_pos = len(tokens) - 1\n",
    "\n",
    "print(f\"\\nComparing interpretations across layers:\")\n",
    "print(f\"Injection position: {last_token_pos} ('{tokens[last_token_pos]}')\") \n",
    "\n",
    "# For demonstration, we'll interpret what the model would represent\n",
    "# after applying the steering by using the injector's internal activations\n",
    "\n",
    "interpretation_comparison = {}\n",
    "\n",
    "for layer in interpretation_layers[:4]:  # Focus on fewer layers for detailed analysis\n",
    "    print(f\"\\n--- Layer {layer} ---\")\n",
    "    \n",
    "    # Get baseline interpretation\n",
    "    baseline_interp = baseline_results.get(analysis_prompt, {}).get(layer, \"[Not computed]\")\n",
    "    \n",
    "    print(f\"Baseline interpretation: {baseline_interp}\")\n",
    "    \n",
    "    # Try to simulate steered interpretation by analyzing the steering vector's effect\n",
    "    if layer in best_steering_vector.directions:\n",
    "        steering_direction = best_steering_vector.directions[layer]\n",
    "        \n",
    "        # Interpret the steering direction itself\n",
    "        try:\n",
    "            steering_interp = interpretation_model.interpret_vectors(\n",
    "                vectors=[steering_direction * analysis_strength],\n",
    "                interpretation_prompt=emotion_prompt,\n",
    "                injection_layer=max(0, layer - 5),  # Inject at earlier layer\n",
    "                max_new_tokens=8\n",
    "            )[0].strip()\n",
    "            \n",
    "            print(f\"Steering vector represents: {steering_interp}\")\n",
    "            \n",
    "            interpretation_comparison[layer] = {\n",
    "                'baseline': baseline_interp,\n",
    "                'steering_direction': steering_interp\n",
    "            }\n",
    "            \n",
    "        except Exception as e:\n",
    "            print(f\"❌ Error interpreting steering vector: {str(e)[:50]}...\")\n",
    "    else:\n",
    "        print(f\"No steering vector for layer {layer}\")\n"
   ]
  },
  {
   "cell_type": "markdown",
   "id": "advanced_analysis_header",
   "metadata": {},
   "source": [
    "## Advanced Analysis: Layer-by-Layer Steering Effects\n",
    "\n",
    "Let's analyze how steering affects different layers and what this tells us about the model's internal processing."
   ]
  },
  {
   "cell_type": "code",
   "execution_count": 11,
   "id": "layer_analysis",
   "metadata": {},
   "outputs": [
    {
     "name": "stdout",
     "output_type": "stream",
     "text": [
      "📊 Layer-by-Layer Steering Effects Analysis\n",
      "============================================================\n"
     ]
    },
    {
     "ename": "AttributeError",
     "evalue": "'numpy.ndarray' object has no attribute 'layout'",
     "output_type": "error",
     "traceback": [
      "\u001b[31m---------------------------------------------------------------------------\u001b[39m",
      "\u001b[31mAttributeError\u001b[39m                            Traceback (most recent call last)",
      "\u001b[36mCell\u001b[39m\u001b[36m \u001b[39m\u001b[32mIn[11]\u001b[39m\u001b[32m, line 16\u001b[39m\n\u001b[32m     11\u001b[39m steering_direction = best_steering_vector.directions[layer]\n\u001b[32m     13\u001b[39m \u001b[38;5;66;03m# Analyze the steering direction at this layer\u001b[39;00m\n\u001b[32m     14\u001b[39m layer_analysis = {\n\u001b[32m     15\u001b[39m     \u001b[33m'\u001b[39m\u001b[33mlayer\u001b[39m\u001b[33m'\u001b[39m: layer,\n\u001b[32m---> \u001b[39m\u001b[32m16\u001b[39m     \u001b[33m'\u001b[39m\u001b[33mvector_norm\u001b[39m\u001b[33m'\u001b[39m: \u001b[38;5;28mfloat\u001b[39m(\u001b[43mtorch\u001b[49m\u001b[43m.\u001b[49m\u001b[43mnorm\u001b[49m\u001b[43m(\u001b[49m\u001b[43msteering_direction\u001b[49m\u001b[43m)\u001b[49m),\n\u001b[32m     17\u001b[39m     \u001b[33m'\u001b[39m\u001b[33mvector_mean\u001b[39m\u001b[33m'\u001b[39m: \u001b[38;5;28mfloat\u001b[39m(steering_direction.mean()),\n\u001b[32m     18\u001b[39m     \u001b[33m'\u001b[39m\u001b[33mvector_std\u001b[39m\u001b[33m'\u001b[39m: \u001b[38;5;28mfloat\u001b[39m(steering_direction.std()),\n\u001b[32m     19\u001b[39m }\n\u001b[32m     21\u001b[39m \u001b[38;5;66;03m# Try to interpret what this layer's steering vector represents\u001b[39;00m\n\u001b[32m     22\u001b[39m \u001b[38;5;28;01mtry\u001b[39;00m:\n",
      "\u001b[36mFile \u001b[39m\u001b[32m~/Desktop/Code/Projects/turnaround/turn_point/.venv/lib/python3.12/site-packages/torch/functional.py:1603\u001b[39m, in \u001b[36mnorm\u001b[39m\u001b[34m(input, p, dim, keepdim, out, dtype)\u001b[39m\n\u001b[32m   1596\u001b[39m     \u001b[38;5;28;01mreturn\u001b[39;00m handle_torch_function(\n\u001b[32m   1597\u001b[39m         norm, (\u001b[38;5;28minput\u001b[39m,), \u001b[38;5;28minput\u001b[39m, p=p, dim=dim, keepdim=keepdim, out=out, dtype=dtype)\n\u001b[32m   1599\u001b[39m \u001b[38;5;66;03m# NB. All the repeated code and weird python is to please TorchScript.\u001b[39;00m\n\u001b[32m   1600\u001b[39m \u001b[38;5;66;03m#     For a more compact implementation see the relevant function in `_refs/__init__.py`\u001b[39;00m\n\u001b[32m   1601\u001b[39m \n\u001b[32m   1602\u001b[39m \u001b[38;5;66;03m# We don't do this for MPS or sparse tensors\u001b[39;00m\n\u001b[32m-> \u001b[39m\u001b[32m1603\u001b[39m \u001b[38;5;28;01mif\u001b[39;00m \u001b[38;5;28;43minput\u001b[39;49m\u001b[43m.\u001b[49m\u001b[43mlayout\u001b[49m == torch.strided \u001b[38;5;129;01mand\u001b[39;00m \u001b[38;5;28minput\u001b[39m.device.type \u001b[38;5;129;01min\u001b[39;00m \\\n\u001b[32m   1604\u001b[39m         (\u001b[33m\"\u001b[39m\u001b[33mcpu\u001b[39m\u001b[33m\"\u001b[39m, \u001b[33m\"\u001b[39m\u001b[33mcuda\u001b[39m\u001b[33m\"\u001b[39m, \u001b[33m\"\u001b[39m\u001b[33mmeta\u001b[39m\u001b[33m\"\u001b[39m, torch.utils.backend_registration._privateuse1_backend_name):\n\u001b[32m   1605\u001b[39m     \u001b[38;5;28;01mif\u001b[39;00m dim \u001b[38;5;129;01mis\u001b[39;00m \u001b[38;5;129;01mnot\u001b[39;00m \u001b[38;5;28;01mNone\u001b[39;00m:\n\u001b[32m   1606\u001b[39m         \u001b[38;5;28;01mif\u001b[39;00m \u001b[38;5;28misinstance\u001b[39m(dim, (\u001b[38;5;28mint\u001b[39m, torch.SymInt)):\n",
      "\u001b[31mAttributeError\u001b[39m: 'numpy.ndarray' object has no attribute 'layout'"
     ]
    }
   ],
   "source": [
    "print(\"📊 Layer-by-Layer Steering Effects Analysis\")\n",
    "print(\"=\" * 60)\n",
    "\n",
    "# Create a systematic analysis of how different layers respond to steering\n",
    "analysis_data = []\n",
    "\n",
    "for layer in selected_layers[::2]:  # Every other layer to manage computation\n",
    "    if layer not in best_steering_vector.directions:\n",
    "        continue\n",
    "        \n",
    "    steering_direction = best_steering_vector.directions[layer]\n",
    "    \n",
    "    # Analyze the steering direction at this layer\n",
    "    layer_analysis = {\n",
    "        'layer': layer,\n",
    "        'vector_norm': float(torch.norm(steering_direction)),\n",
    "        'vector_mean': float(steering_direction.mean()),\n",
    "        'vector_std': float(steering_direction.std()),\n",
    "    }\n",
    "    \n",
    "    # Try to interpret what this layer's steering vector represents\n",
    "    try:\n",
    "        positive_interp = interpretation_model.interpret_vectors(\n",
    "            vectors=[steering_direction],\n",
    "            interpretation_prompt=emotion_prompt,\n",
    "            injection_layer=max(0, layer - 3),\n",
    "            max_new_tokens=6\n",
    "        )[0].strip()\n",
    "        \n",
    "        negative_interp = interpretation_model.interpret_vectors(\n",
    "            vectors=[-steering_direction],\n",
    "            interpretation_prompt=emotion_prompt,\n",
    "            injection_layer=max(0, layer - 3),\n",
    "            max_new_tokens=6\n",
    "        )[0].strip()\n",
    "        \n",
    "        layer_analysis['positive_direction'] = positive_interp\n",
    "        layer_analysis['negative_direction'] = negative_interp\n",
    "        \n",
    "    except Exception as e:\n",
    "        layer_analysis['positive_direction'] = f\"Error: {str(e)[:30]}...\"\n",
    "        layer_analysis['negative_direction'] = f\"Error: {str(e)[:30]}...\"\n",
    "    \n",
    "    analysis_data.append(layer_analysis)\n",
    "\n",
    "# Display results\n",
    "print(\"\\nLayer Analysis Results:\")\n",
    "print(\"-\" * 80)\n",
    "for data in analysis_data[:6]:  # Show first 6 layers\n",
    "    print(f\"Layer {data['layer']:2d}: norm={data['vector_norm']:.1f}, \"\n",
    "          f\"mean={data['vector_mean']:.3f}\")\n",
    "    print(f\"         Positive: {data['positive_direction']}\")\n",
    "    print(f\"         Negative: {data['negative_direction']}\")\n",
    "    print()\n",
    "\n",
    "# Create a DataFrame for statistical analysis\n",
    "df_analysis = pd.DataFrame(analysis_data)\n",
    "print(f\"Statistical Summary of Steering Vectors Across {len(df_analysis)} Layers:\")\n",
    "print(df_analysis[['layer', 'vector_norm', 'vector_mean', 'vector_std']].describe())"
   ]
  },
  {
   "cell_type": "markdown",
   "id": "visualization_header",
   "metadata": {},
   "source": [
    "## Visualization of Steering Effects"
   ]
  },
  {
   "cell_type": "code",
   "execution_count": 12,
   "id": "visualize_effects",
   "metadata": {},
   "outputs": [
    {
     "ename": "NameError",
     "evalue": "name 'df_analysis' is not defined",
     "output_type": "error",
     "traceback": [
      "\u001b[31m---------------------------------------------------------------------------\u001b[39m",
      "\u001b[31mNameError\u001b[39m                                 Traceback (most recent call last)",
      "\u001b[36mCell\u001b[39m\u001b[36m \u001b[39m\u001b[32mIn[12]\u001b[39m\u001b[32m, line 6\u001b[39m\n\u001b[32m      3\u001b[39m fig.suptitle(\u001b[33m'\u001b[39m\u001b[33mMulti-Layer Steering Vector Analysis\u001b[39m\u001b[33m'\u001b[39m, fontsize=\u001b[32m16\u001b[39m)\n\u001b[32m      5\u001b[39m \u001b[38;5;66;03m# Plot 1: Vector norms across layers\u001b[39;00m\n\u001b[32m----> \u001b[39m\u001b[32m6\u001b[39m \u001b[38;5;28;01mif\u001b[39;00m \u001b[38;5;129;01mnot\u001b[39;00m \u001b[43mdf_analysis\u001b[49m.empty:\n\u001b[32m      7\u001b[39m     axes[\u001b[32m0\u001b[39m,\u001b[32m0\u001b[39m].plot(df_analysis[\u001b[33m'\u001b[39m\u001b[33mlayer\u001b[39m\u001b[33m'\u001b[39m], df_analysis[\u001b[33m'\u001b[39m\u001b[33mvector_norm\u001b[39m\u001b[33m'\u001b[39m], \u001b[33m'\u001b[39m\u001b[33mo-\u001b[39m\u001b[33m'\u001b[39m, color=\u001b[33m'\u001b[39m\u001b[33mblue\u001b[39m\u001b[33m'\u001b[39m)\n\u001b[32m      8\u001b[39m     axes[\u001b[32m0\u001b[39m,\u001b[32m0\u001b[39m].set_title(\u001b[33m'\u001b[39m\u001b[33mSteering Vector Magnitude by Layer\u001b[39m\u001b[33m'\u001b[39m)\n",
      "\u001b[31mNameError\u001b[39m: name 'df_analysis' is not defined"
     ]
    },
    {
     "data": {
      "image/png": "[encoded data removed]",
      "text/plain": [
       "<Figure size 1500x1000 with 4 Axes>"
      ]
     },
     "metadata": {},
     "output_type": "display_data"
    }
   ],
   "source": [
    "# Create visualizations\n",
    "fig, axes = plt.subplots(2, 2, figsize=(15, 10))\n",
    "fig.suptitle('Multi-Layer Steering Vector Analysis', fontsize=16)\n",
    "\n",
    "# Plot 1: Vector norms across layers\n",
    "if not df_analysis.empty:\n",
    "    axes[0,0].plot(df_analysis['layer'], df_analysis['vector_norm'], 'o-', color='blue')\n",
    "    axes[0,0].set_title('Steering Vector Magnitude by Layer')\n",
    "    axes[0,0].set_xlabel('Layer')\n",
    "    axes[0,0].set_ylabel('L2 Norm')\n",
    "    axes[0,0].grid(True, alpha=0.3)\n",
    "\n",
    "    # Plot 2: Vector means across layers\n",
    "    axes[0,1].plot(df_analysis['layer'], df_analysis['vector_mean'], 'o-', color='green')\n",
    "    axes[0,1].set_title('Steering Vector Mean by Layer')\n",
    "    axes[0,1].set_xlabel('Layer')\n",
    "    axes[0,1].set_ylabel('Mean Activation')\n",
    "    axes[0,1].grid(True, alpha=0.3)\n",
    "\n",
    "    # Plot 3: Vector standard deviations\n",
    "    axes[1,0].plot(df_analysis['layer'], df_analysis['vector_std'], 'o-', color='red')\n",
    "    axes[1,0].set_title('Steering Vector Std Dev by Layer')\n",
    "    axes[1,0].set_xlabel('Layer')\n",
    "    axes[1,0].set_ylabel('Standard Deviation')\n",
    "    axes[1,0].grid(True, alpha=0.3)\n",
    "\n",
    "# Plot 4: Text comparison of steering effects\n",
    "axes[1,1].axis('off')\n",
    "comparison_text = \"\\n\".join([\n",
    "    \"Steering Effects Summary:\",\n",
    "    f\"• Dataset: {PERSONA_CATEGORY} ({len(dataset)} examples)\",\n",
    "    f\"• Best method: {best_method}\",\n",
    "    f\"• Layers affected: {len(selected_layers)}\",\n",
    "    f\"• Accuracy: {evaluations[best_method]['overall']['accuracy']:.3f}\",\n",
    "    f\"• Cohen's d: {evaluations[best_method]['overall']['cohens_d']:.3f}\"\n",
    "])\n",
    "axes[1,1].text(0.1, 0.5, comparison_text, fontsize=12, verticalalignment='center',\n",
    "               bbox=dict(boxstyle=\"round,pad=0.3\", facecolor=\"lightblue\", alpha=0.5))\n",
    "\n",
    "plt.tight_layout()\n",
    "plt.show()\n",
    "\n",
    "print(\"\\n📈 Key Observations:\")\n",
    "if not df_analysis.empty:\n",
    "    max_norm_layer = df_analysis.loc[df_analysis['vector_norm'].idxmax(), 'layer']\n",
    "    min_norm_layer = df_analysis.loc[df_analysis['vector_norm'].idxmin(), 'layer']\n",
    "    print(f\"  • Strongest steering effect at layer {max_norm_layer}\")\n",
    "    print(f\"  • Weakest steering effect at layer {min_norm_layer}\")\n",
    "    print(f\"  • Mean vector magnitude: {df_analysis['vector_norm'].mean():.2f}\")\n",
    "else:\n",
    "    print(\"  • No analysis data available\")"
   ]
  },
  {
   "cell_type": "markdown",
   "id": "interactive_demo_header",
   "metadata": {},
   "source": [
    "## Interactive Demo: Test Your Own Prompts\n",
    "\n",
    "Try different prompts and see how steering affects both the generated text and the internal interpretations."
   ]
  },
  {
   "cell_type": "code",
   "execution_count": null,
   "id": "interactive_demo",
   "metadata": {},
   "outputs": [],
   "source": [
    "# Interactive experimentation\n",
    "print(\"🎮 Interactive Steering and Interpretation Demo\")\n",
    "print(\"=\" * 50)\n",
    "\n",
    "# Customize these variables for your experiments\n",
    "your_prompts = [\n",
    "    \"The movie was\",\n",
    "    \"I think life is\", \n",
    "    \"Tomorrow brings\",\n",
    "    \"My experience has been\"\n",
    "]\n",
    "\n",
    "your_strength = 1.5  # Try different values: -2.0 to 2.0\n",
    "your_interpretation_prompt = emotion_prompt  # Try different prompts\n",
    "\n",
    "for prompt in your_prompts:\n",
    "    print(f\"\\n--- Testing: '{prompt}' ---\")\n",
    "    \n",
    "    try:\n",
    "        # Generate comparison\n",
    "        tokens = tokenizer.tokenize(prompt)\n",
    "        injection_pos = len(tokens) - 1\n",
    "        \n",
    "        comparison = injector.compare_with_without_injection(\n",
    "            prompt=prompt,\n",
    "            steering_vector=best_steering_vector,\n",
    "            injection_positions=[injection_pos],\n",
    "            injection_strength=your_strength,\n",
    "            max_new_tokens=12\n",
    "        )\n",
    "        \n",
    "        baseline_text = comparison['baseline']['generated_text'].strip()\n",
    "        steered_text = comparison['injection']['generated_text'].strip()\n",
    "        \n",
    "        print(f\"Baseline: {baseline_text}\")\n",
    "        print(f\"Steered:  {steered_text}\")\n",
    "        \n",
    "        # Quick interpretation of the difference\n",
    "        direction = \"happier\" if your_strength > 0 else \"sadder\"\n",
    "        print(f\"Effect: Steering made the response {direction}\")\n",
    "        print(f\"Tokens changed: {comparison['comparison']['tokens_different']}\")\n",
    "        \n",
    "    except Exception as e:\n",
    "        print(f\"❌ Error: {str(e)[:80]}...\")\n",
    "\n",
    "print(\"\\n💡 Try modifying 'your_prompts', 'your_strength', and 'your_interpretation_prompt' above!\")\n",
    "print(\"   Positive strength = happier, Negative strength = sadder\")\n",
    "print(\"   Strength range: -2.0 (very sad) to +2.0 (very happy)\")"
   ]
  },
  {
   "cell_type": "code",
   "execution_count": 13,
   "id": "ht75h6mzrz",
   "metadata": {},
   "outputs": [
    {
     "name": "stdout",
     "output_type": "stream",
     "text": [
      "🚀 Using RepengInterpretationAnalyzer for Advanced Analysis\n",
      "============================================================\n",
      "Analyzing prompt: 'The day ahead looks'\n",
      "Interpreting 'The day ahead looks' with 'This neural pattern represents the emotion of _ '\n"
     ]
    },
    {
     "name": "stderr",
     "output_type": "stream",
     "text": [
      "  0%|          | 0/1 [00:00<?, ?it/s]"
     ]
    },
    {
     "name": "stdout",
     "output_type": "stream",
     "text": [
      "Interpreting 'The day ahead looks' with 'This neural pattern represents the emotion of _ '\n"
     ]
    },
    {
     "name": "stderr",
     "output_type": "stream",
     "text": [
      "\n",
      "  0%|          | 0/1 [00:00<?, ?it/s]\n"
     ]
    },
    {
     "name": "stdout",
     "output_type": "stream",
     "text": [
      "Interpreting 'The day ahead looks' with 'This neural pattern represents the emotion of _ '\n"
     ]
    },
    {
     "name": "stderr",
     "output_type": "stream",
     "text": [
      "  0%|          | 0/1 [00:00<?, ?it/s]\n"
     ]
    },
    {
     "name": "stdout",
     "output_type": "stream",
     "text": [
      "Interpreting 'The day ahead looks' with 'This neural pattern represents the emotion of _ '\n"
     ]
    },
    {
     "name": "stderr",
     "output_type": "stream",
     "text": [
      "  0%|          | 0/1 [00:00<?, ?it/s]\n",
      "  0%|          | 0/1 [00:00<?, ?it/s]\n",
      "  0%|          | 0/1 [00:00<?, ?it/s]\n",
      "  0%|          | 0/1 [00:00<?, ?it/s]\n",
      "  0%|          | 0/1 [00:00<?, ?it/s]\n"
     ]
    },
    {
     "ename": "AttributeError",
     "evalue": "'numpy.ndarray' object has no attribute 'layout'",
     "output_type": "error",
     "traceback": [
      "\u001b[31m---------------------------------------------------------------------------\u001b[39m",
      "\u001b[31mAttributeError\u001b[39m                            Traceback (most recent call last)",
      "\u001b[36mCell\u001b[39m\u001b[36m \u001b[39m\u001b[32mIn[13]\u001b[39m\u001b[32m, line 16\u001b[39m\n\u001b[32m     13\u001b[39m analysis_prompt = \u001b[33m\"\u001b[39m\u001b[33mThe day ahead looks\u001b[39m\u001b[33m\"\u001b[39m\n\u001b[32m     14\u001b[39m \u001b[38;5;28mprint\u001b[39m(\u001b[33mf\u001b[39m\u001b[33m\"\u001b[39m\u001b[33mAnalyzing prompt: \u001b[39m\u001b[33m'\u001b[39m\u001b[38;5;132;01m{\u001b[39;00manalysis_prompt\u001b[38;5;132;01m}\u001b[39;00m\u001b[33m'\u001b[39m\u001b[33m\"\u001b[39m)\n\u001b[32m---> \u001b[39m\u001b[32m16\u001b[39m quick_analysis = \u001b[43mquick_steering_interpretation_analysis\u001b[49m\u001b[43m(\u001b[49m\n\u001b[32m     17\u001b[39m \u001b[43m    \u001b[49m\u001b[43msteering_model\u001b[49m\u001b[43m=\u001b[49m\u001b[43msteering_model\u001b[49m\u001b[43m,\u001b[49m\n\u001b[32m     18\u001b[39m \u001b[43m    \u001b[49m\u001b[43minterpretation_model\u001b[49m\u001b[43m=\u001b[49m\u001b[43minterpretation_model\u001b[49m\u001b[43m,\u001b[49m\n\u001b[32m     19\u001b[39m \u001b[43m    \u001b[49m\u001b[43mtokenizer\u001b[49m\u001b[43m=\u001b[49m\u001b[43mtokenizer\u001b[49m\u001b[43m,\u001b[49m\n\u001b[32m     20\u001b[39m \u001b[43m    \u001b[49m\u001b[43mprompt\u001b[49m\u001b[43m=\u001b[49m\u001b[43manalysis_prompt\u001b[49m\u001b[43m,\u001b[49m\n\u001b[32m     21\u001b[39m \u001b[43m    \u001b[49m\u001b[43msteering_vector\u001b[49m\u001b[43m=\u001b[49m\u001b[43mbest_steering_vector\u001b[49m\u001b[43m,\u001b[49m\n\u001b[32m     22\u001b[39m \u001b[43m    \u001b[49m\u001b[43mstrengths\u001b[49m\u001b[43m=\u001b[49m\u001b[43m[\u001b[49m\u001b[32;43m0.5\u001b[39;49m\u001b[43m,\u001b[49m\u001b[43m \u001b[49m\u001b[32;43m1.0\u001b[39;49m\u001b[43m,\u001b[49m\u001b[43m \u001b[49m\u001b[43m-\u001b[49m\u001b[32;43m0.5\u001b[39;49m\u001b[43m,\u001b[49m\u001b[43m \u001b[49m\u001b[43m-\u001b[49m\u001b[32;43m1.0\u001b[39;49m\u001b[43m]\u001b[49m\u001b[43m,\u001b[49m\u001b[43m  \u001b[49m\u001b[38;5;66;43;03m# Range of steering strengths\u001b[39;49;00m\n\u001b[32m     23\u001b[39m \u001b[43m    \u001b[49m\u001b[43mmax_layers\u001b[49m\u001b[43m=\u001b[49m\u001b[32;43m4\u001b[39;49m\n\u001b[32m     24\u001b[39m \u001b[43m)\u001b[49m\n\u001b[32m     26\u001b[39m \u001b[38;5;28mprint\u001b[39m(\u001b[33mf\u001b[39m\u001b[33m\"\u001b[39m\u001b[38;5;130;01m\\n\u001b[39;00m\u001b[33m📊 Quick Analysis Results:\u001b[39m\u001b[33m\"\u001b[39m)\n\u001b[32m     27\u001b[39m \u001b[38;5;28mprint\u001b[39m(\u001b[33mf\u001b[39m\u001b[33m\"\u001b[39m\u001b[33m  Strengths tested: \u001b[39m\u001b[38;5;132;01m{\u001b[39;00mquick_analysis[\u001b[33m'\u001b[39m\u001b[33mstrengths_tested\u001b[39m\u001b[33m'\u001b[39m]\u001b[38;5;132;01m}\u001b[39;00m\u001b[33m\"\u001b[39m)\n",
      "\u001b[36mFile \u001b[39m\u001b[32m~/Desktop/Code/Projects/turnaround/turn_point/NNsight_selfie/nnsight_selfie/repeng_interpretation_utils.py:420\u001b[39m, in \u001b[36mquick_steering_interpretation_analysis\u001b[39m\u001b[34m(steering_model, interpretation_model, tokenizer, prompt, steering_vector, strengths, max_layers)\u001b[39m\n\u001b[32m    417\u001b[39m selected_layers = all_layers[:max_layers] \u001b[38;5;28;01mif\u001b[39;00m \u001b[38;5;28mlen\u001b[39m(all_layers) > max_layers \u001b[38;5;28;01melse\u001b[39;00m all_layers\n\u001b[32m    419\u001b[39m \u001b[38;5;66;03m# Run analysis\u001b[39;00m\n\u001b[32m--> \u001b[39m\u001b[32m420\u001b[39m results = \u001b[43manalyzer\u001b[49m\u001b[43m.\u001b[49m\u001b[43manalyze_steering_effects\u001b[49m\u001b[43m(\u001b[49m\n\u001b[32m    421\u001b[39m \u001b[43m    \u001b[49m\u001b[43mprompt\u001b[49m\u001b[43m=\u001b[49m\u001b[43mprompt\u001b[49m\u001b[43m,\u001b[49m\n\u001b[32m    422\u001b[39m \u001b[43m    \u001b[49m\u001b[43msteering_vector\u001b[49m\u001b[43m=\u001b[49m\u001b[43msteering_vector\u001b[49m\u001b[43m,\u001b[49m\n\u001b[32m    423\u001b[39m \u001b[43m    \u001b[49m\u001b[43mstrengths\u001b[49m\u001b[43m=\u001b[49m\u001b[43mstrengths\u001b[49m\u001b[43m,\u001b[49m\n\u001b[32m    424\u001b[39m \u001b[43m    \u001b[49m\u001b[43minterpretation_layers\u001b[49m\u001b[43m=\u001b[49m\u001b[43mselected_layers\u001b[49m\n\u001b[32m    425\u001b[39m \u001b[43m\u001b[49m\u001b[43m)\u001b[49m\n\u001b[32m    427\u001b[39m \u001b[38;5;66;03m# Create summary\u001b[39;00m\n\u001b[32m    428\u001b[39m summary = {\n\u001b[32m    429\u001b[39m     \u001b[33m'\u001b[39m\u001b[33mprompt\u001b[39m\u001b[33m'\u001b[39m: prompt,\n\u001b[32m    430\u001b[39m     \u001b[33m'\u001b[39m\u001b[33mstrengths_tested\u001b[39m\u001b[33m'\u001b[39m: strengths,\n\u001b[32m   (...)\u001b[39m\u001b[32m    434\u001b[39m     \u001b[33m'\u001b[39m\u001b[33mdataframe\u001b[39m\u001b[33m'\u001b[39m: analyzer.create_analysis_dataframe(results)\n\u001b[32m    435\u001b[39m }\n",
      "\u001b[36mFile \u001b[39m\u001b[32m~/Desktop/Code/Projects/turnaround/turn_point/NNsight_selfie/nnsight_selfie/repeng_interpretation_utils.py:138\u001b[39m, in \u001b[36mRepengInterpretationAnalyzer.analyze_steering_effects\u001b[39m\u001b[34m(self, prompt, steering_vector, strengths, interpretation_layers, interpretation_prompt, max_new_tokens)\u001b[39m\n\u001b[32m    133\u001b[39m steered_interps = \u001b[38;5;28mself\u001b[39m._interpret_steering_directions(\n\u001b[32m    134\u001b[39m     steering_vector, interpretation_layers, interpretation_prompt, strength\n\u001b[32m    135\u001b[39m )\n\u001b[32m    137\u001b[39m \u001b[38;5;66;03m# Calculate layer effects\u001b[39;00m\n\u001b[32m--> \u001b[39m\u001b[32m138\u001b[39m layer_effects = \u001b[38;5;28;43mself\u001b[39;49m\u001b[43m.\u001b[49m\u001b[43m_calculate_layer_effects\u001b[49m\u001b[43m(\u001b[49m\u001b[43msteering_vector\u001b[49m\u001b[43m,\u001b[49m\u001b[43m \u001b[49m\u001b[43mstrength\u001b[49m\u001b[43m)\u001b[49m\n\u001b[32m    140\u001b[39m result = SteeringInterpretationResult(\n\u001b[32m    141\u001b[39m     prompt=prompt,\n\u001b[32m    142\u001b[39m     steering_strength=strength,\n\u001b[32m   (...)\u001b[39m\u001b[32m    147\u001b[39m     layer_effects=layer_effects\n\u001b[32m    148\u001b[39m )\n\u001b[32m    150\u001b[39m results.append(result)\n",
      "\u001b[36mFile \u001b[39m\u001b[32m~/Desktop/Code/Projects/turnaround/turn_point/NNsight_selfie/nnsight_selfie/repeng_interpretation_utils.py:221\u001b[39m, in \u001b[36mRepengInterpretationAnalyzer._calculate_layer_effects\u001b[39m\u001b[34m(self, steering_vector, strength)\u001b[39m\n\u001b[32m    217\u001b[39m \u001b[38;5;28;01mfor\u001b[39;00m layer, direction \u001b[38;5;129;01min\u001b[39;00m steering_vector.directions.items():\n\u001b[32m    218\u001b[39m     scaled_direction = direction * strength\n\u001b[32m    220\u001b[39m     effects[layer] = {\n\u001b[32m--> \u001b[39m\u001b[32m221\u001b[39m         \u001b[33m'\u001b[39m\u001b[33mmagnitude\u001b[39m\u001b[33m'\u001b[39m: \u001b[38;5;28mfloat\u001b[39m(\u001b[43mtorch\u001b[49m\u001b[43m.\u001b[49m\u001b[43mnorm\u001b[49m\u001b[43m(\u001b[49m\u001b[43mscaled_direction\u001b[49m\u001b[43m)\u001b[49m),\n\u001b[32m    222\u001b[39m         \u001b[33m'\u001b[39m\u001b[33mmean\u001b[39m\u001b[33m'\u001b[39m: \u001b[38;5;28mfloat\u001b[39m(scaled_direction.mean()),\n\u001b[32m    223\u001b[39m         \u001b[33m'\u001b[39m\u001b[33mstd\u001b[39m\u001b[33m'\u001b[39m: \u001b[38;5;28mfloat\u001b[39m(scaled_direction.std()),\n\u001b[32m    224\u001b[39m         \u001b[33m'\u001b[39m\u001b[33mmax\u001b[39m\u001b[33m'\u001b[39m: \u001b[38;5;28mfloat\u001b[39m(scaled_direction.max()),\n\u001b[32m    225\u001b[39m         \u001b[33m'\u001b[39m\u001b[33mmin\u001b[39m\u001b[33m'\u001b[39m: \u001b[38;5;28mfloat\u001b[39m(scaled_direction.min()),\n\u001b[32m    226\u001b[39m         \u001b[33m'\u001b[39m\u001b[33mstrength_factor\u001b[39m\u001b[33m'\u001b[39m: \u001b[38;5;28mabs\u001b[39m(strength)\n\u001b[32m    227\u001b[39m     }\n\u001b[32m    229\u001b[39m \u001b[38;5;28;01mreturn\u001b[39;00m effects\n",
      "\u001b[36mFile \u001b[39m\u001b[32m~/Desktop/Code/Projects/turnaround/turn_point/.venv/lib/python3.12/site-packages/torch/functional.py:1603\u001b[39m, in \u001b[36mnorm\u001b[39m\u001b[34m(input, p, dim, keepdim, out, dtype)\u001b[39m\n\u001b[32m   1596\u001b[39m     \u001b[38;5;28;01mreturn\u001b[39;00m handle_torch_function(\n\u001b[32m   1597\u001b[39m         norm, (\u001b[38;5;28minput\u001b[39m,), \u001b[38;5;28minput\u001b[39m, p=p, dim=dim, keepdim=keepdim, out=out, dtype=dtype)\n\u001b[32m   1599\u001b[39m \u001b[38;5;66;03m# NB. All the repeated code and weird python is to please TorchScript.\u001b[39;00m\n\u001b[32m   1600\u001b[39m \u001b[38;5;66;03m#     For a more compact implementation see the relevant function in `_refs/__init__.py`\u001b[39;00m\n\u001b[32m   1601\u001b[39m \n\u001b[32m   1602\u001b[39m \u001b[38;5;66;03m# We don't do this for MPS or sparse tensors\u001b[39;00m\n\u001b[32m-> \u001b[39m\u001b[32m1603\u001b[39m \u001b[38;5;28;01mif\u001b[39;00m \u001b[38;5;28;43minput\u001b[39;49m\u001b[43m.\u001b[49m\u001b[43mlayout\u001b[49m == torch.strided \u001b[38;5;129;01mand\u001b[39;00m \u001b[38;5;28minput\u001b[39m.device.type \u001b[38;5;129;01min\u001b[39;00m \\\n\u001b[32m   1604\u001b[39m         (\u001b[33m\"\u001b[39m\u001b[33mcpu\u001b[39m\u001b[33m\"\u001b[39m, \u001b[33m\"\u001b[39m\u001b[33mcuda\u001b[39m\u001b[33m\"\u001b[39m, \u001b[33m\"\u001b[39m\u001b[33mmeta\u001b[39m\u001b[33m\"\u001b[39m, torch.utils.backend_registration._privateuse1_backend_name):\n\u001b[32m   1605\u001b[39m     \u001b[38;5;28;01mif\u001b[39;00m dim \u001b[38;5;129;01mis\u001b[39;00m \u001b[38;5;129;01mnot\u001b[39;00m \u001b[38;5;28;01mNone\u001b[39;00m:\n\u001b[32m   1606\u001b[39m         \u001b[38;5;28;01mif\u001b[39;00m \u001b[38;5;28misinstance\u001b[39m(dim, (\u001b[38;5;28mint\u001b[39m, torch.SymInt)):\n",
      "\u001b[31mAttributeError\u001b[39m: 'numpy.ndarray' object has no attribute 'layout'"
     ]
    }
   ],
   "source": [
    "# Advanced Analysis Using the New Combined Utilities\n",
    "print(\"🚀 Using RepengInterpretationAnalyzer for Advanced Analysis\")\n",
    "print(\"=\" * 60)\n",
    "\n",
    "# Create the combined analyzer\n",
    "analyzer = RepengInterpretationAnalyzer(\n",
    "    steering_model=steering_model,\n",
    "    interpretation_model=interpretation_model,\n",
    "    tokenizer=tokenizer\n",
    ")\n",
    "\n",
    "# Quick analysis using the utility function\n",
    "analysis_prompt = \"The day ahead looks\"\n",
    "print(f\"Analyzing prompt: '{analysis_prompt}'\")\n",
    "\n",
    "quick_analysis = quick_steering_interpretation_analysis(\n",
    "    steering_model=steering_model,\n",
    "    interpretation_model=interpretation_model,\n",
    "    tokenizer=tokenizer,\n",
    "    prompt=analysis_prompt,\n",
    "    steering_vector=best_steering_vector,\n",
    "    strengths=[0.5, 1.0, -0.5, -1.0],  # Range of steering strengths\n",
    "    max_layers=4\n",
    ")\n",
    "\n",
    "print(f\"\\n📊 Quick Analysis Results:\")\n",
    "print(f\"  Strengths tested: {quick_analysis['strengths_tested']}\")\n",
    "print(f\"  Layers analyzed: {quick_analysis['layers_analyzed']}\")\n",
    "\n",
    "# Show detailed results\n",
    "for i, result in enumerate(quick_analysis['results'][:2]):  # Show first 2 results\n",
    "    strength = result.steering_strength\n",
    "    direction = \"Happy\" if strength > 0 else \"Sad\"\n",
    "    \n",
    "    print(f\"\\n  --- {direction} Steering (strength {strength:.1f}) ---\")\n",
    "    print(f\"    Baseline text:  {result.baseline_text[:60]}...\")\n",
    "    print(f\"    Steered text:   {result.steered_text[:60]}...\")\n",
    "    \n",
    "    # Show interpretation for one layer\n",
    "    if result.steered_interpretations:\n",
    "        layer = list(result.steered_interpretations.keys())[0]\n",
    "        baseline_interp = result.baseline_interpretations.get(layer, 'N/A')\n",
    "        steered_interp = result.steered_interpretations[layer]\n",
    "        \n",
    "        print(f\"    Layer {layer}:\")\n",
    "        print(f\"      Baseline interpretation: {baseline_interp}\")\n",
    "        print(f\"      Steered interpretation:  {steered_interp}\")\n",
    "\n",
    "# Create comparison dataframe\n",
    "df = quick_analysis['dataframe']\n",
    "print(f\"\\n📈 DataFrame Summary:\")\n",
    "print(f\"  Total rows: {len(df)}\")\n",
    "print(f\"  Unique prompts: {df['prompt'].nunique()}\")\n",
    "print(f\"  Text changes: {df['text_changed'].sum()}/{len(df)} cases\")\n",
    "\n",
    "if len(df) > 0:\n",
    "    print(f\"  Average steering magnitude: {df['magnitude'].mean():.2f}\")\n",
    "    print(f\"  Max steering magnitude: {df['magnitude'].max():.2f}\")\n",
    "    \n",
    "    # Show top magnitude effects\n",
    "    top_effects = df.nlargest(3, 'magnitude')[['layer', 'strength', 'magnitude']]\n",
    "    print(f\"\\n  Top 3 steering effects by magnitude:\")\n",
    "    for _, row in top_effects.iterrows():\n",
    "        print(f\"    Layer {row['layer']}, strength {row['strength']}: magnitude {row['magnitude']:.2f}\")\n",
    "\n",
    "print(\"\\n✅ Advanced analysis completed using the new utilities!\")"
   ]
  },
  {
   "cell_type": "code",
   "execution_count": null,
   "id": "8453ee05",
   "metadata": {},
   "outputs": [],
   "source": []
  }
 ],
 "metadata": {
  "kernelspec": {
   "display_name": ".venv",
   "language": "python",
   "name": "python3"
  },
  "language_info": {
   "codemirror_mode": {
    "name": "ipython",
    "version": 3
   },
   "file_extension": ".py",
   "mimetype": "text/x-python",
   "name": "python",
   "nbconvert_exporter": "python",
   "pygments_lexer": "ipython3",
   "version": "3.12.3"
  }
 },
 "nbformat": 4,
 "nbformat_minor": 5
}
