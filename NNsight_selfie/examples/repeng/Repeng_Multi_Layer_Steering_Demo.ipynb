{
 "cells": [
  {
   "cell_type": "markdown",
   "id": "repeng_demo_intro",
   "metadata": {},
   "source": [
    "# Repeng-Style Multi-Layer Steering Vector Demo\n",
    "\n",
    "This notebook demonstrates the new repeng-inspired methodology for creating and applying steering vectors using NNsight. The key innovation is:\n",
    "\n",
    "1. **Multi-layer activation extraction**: Extract activations from all transformer layers simultaneously\n",
    "2. **PCA-based steering vector generation**: Use repeng's methodology to find principal directions\n",
    "3. **Multi-layer injection**: Inject steering vectors across multiple layers at token level\n",
    "\n",
    "This approach differs from repeng by:\n",
    "- Using NNsight for more flexible model interaction\n",
    "- Injecting at the same layers where activations were extracted (not cross-layer)\n",
    "- Supporting token-level injection across multiple layers simultaneously\n",
    "\n",
    "## Key Features:\n",
    "- **Dataset Generation**: Based on repeng's truncated outputs with customizable personas\n",
    "- **Activation Extraction**: Last-token extraction from multiple layers using NNsight\n",
    "- **PCA Processing**: Three methods (pca_diff, pca_center, mean_diff)\n",
    "- **Multi-Layer Injection**: Simultaneous injection across layers at token positions"
   ]
  },
  {
   "cell_type": "code",
   "execution_count": 1,
   "id": "imports",
   "metadata": {},
   "outputs": [
    {
     "name": "stdout",
     "output_type": "stream",
     "text": [
      "✅ All imports successful!\n"
     ]
    }
   ],
   "source": [
    "# Import required libraries\n",
    "import os\n",
    "# FOR AMD GPU compatibility\n",
    "os.environ[\"HSA_OVERRIDE_GFX_VERSION\"] = \"11.0.0\"\n",
    "os.environ[\"HIP_VISIBLE_DEVICES\"] = \"0\"\n",
    "os.environ[\"AMD_SERIALIZE_KERNEL\"] = \"3\"\n",
    "os.environ[\"TORCH_USE_HIP_DSA\"] = \"1\"\n",
    "\n",
    "import torch\n",
    "import numpy as np\n",
    "import matplotlib.pyplot as plt\n",
    "import seaborn as sns\n",
    "from tqdm import tqdm\n",
    "import warnings\n",
    "warnings.filterwarnings('ignore')\n",
    "\n",
    "# Import NNsight and transformers\n",
    "from transformers import AutoTokenizer\n",
    "import nnsight\n",
    "\n",
    "# Import our new repeng-based utilities\n",
    "from nnsight_selfie import (\n",
    "    RepengDatasetGenerator,\n",
    "    RepengActivationExtractor, \n",
    "    RepengSteeringVectorGenerator,\n",
    "    RepengMultiLayerInjector,\n",
    "    DatasetEntry,\n",
    "    SteeringVector,\n",
    "    create_quick_dataset,\n",
    "    extract_repeng_activations,\n",
    "    create_steering_vector,\n",
    "    inject_multi_layer\n",
    ")\n",
    "\n",
    "print(\"✅ All imports successful!\")"
   ]
  },
  {
   "cell_type": "markdown",
   "id": "model_setup",
   "metadata": {},
   "source": [
    "## 1. Model Setup\n",
    "\n",
    "Load a model using NNsight. We'll use a small model for demonstration, but the methodology scales to larger models."
   ]
  },
  {
   "cell_type": "code",
   "execution_count": 2,
   "id": "load_model",
   "metadata": {},
   "outputs": [
    {
     "name": "stdout",
     "output_type": "stream",
     "text": [
      "Loading model: google/gemma-3-4b-it\n",
      "Model loaded successfully!\n",
      "Device: meta\n",
      "Model type: <class 'nnsight.modeling.language.LanguageModel'>\n"
     ]
    }
   ],
   "source": [
    "# Configuration\n",
    "MODEL_NAME = \"google/gemma-3-4b-it\"  # Gemma 3 4B equivalent\n",
    "# MODEL_NAME = \"microsoft/DialoGPT-small\"  # Uncomment for smaller demo\n",
    "\n",
    "print(f\"Loading model: {MODEL_NAME}\")\n",
    "\n",
    "# Load tokenizer\n",
    "tokenizer = AutoTokenizer.from_pretrained(MODEL_NAME)\n",
    "if tokenizer.pad_token is None:\n",
    "    tokenizer.pad_token = tokenizer.eos_token\n",
    "\n",
    "# Load model with NNsight - updated parameters for compatibility\n",
    "model = nnsight.LanguageModel(\n",
    "    MODEL_NAME,\n",
    "    device_map=\"auto\",\n",
    "    dtype=torch.bfloat16,\n",
    "    low_cpu_mem_usage=False  # Avoid meta device issues\n",
    ")\n",
    "\n",
    "print(f\"Model loaded successfully!\")\n",
    "print(f\"Device: {model.device}\")\n",
    "print(f\"Model type: {type(model)}\")"
   ]
  },
  {
   "cell_type": "markdown",
   "id": "dataset_creation",
   "metadata": {},
   "source": [
    "## 2. Dataset Creation\n",
    "\n",
    "Create a dataset using repeng's methodology with truncated conversation snippets and persona templates."
   ]
  },
  {
   "cell_type": "code",
   "execution_count": 3,
   "id": "create_dataset",
   "metadata": {},
   "outputs": [
    {
     "name": "stdout",
     "output_type": "stream",
     "text": [
      "Loaded 562 truncated outputs from repeng data\n",
      "Available persona categories:\n",
      "  emotion: ['happy', 'joyful'] vs ['sad', 'depressed']\n",
      "  honesty: ['honest', 'truthful'] vs ['dishonest', 'deceptive']\n",
      "  aggression: ['peaceful', 'calm'] vs ['aggressive', 'hostile']\n",
      "  confidence: ['confident', 'self-assured'] vs ['insecure', 'uncertain']\n",
      "  helpfulness: ['helpful', 'supportive'] vs ['unhelpful', 'dismissive']\n",
      "  formality: ['formal', 'professional'] vs ['casual', 'informal']\n",
      "\n",
      "Available templates:\n",
      "  emotion: Act as if you're extremely {persona}. {suffix}\n",
      "  personality: Behave as if you have a {persona} personality. {suffix}\n",
      "  role: You are a {persona} person. {suffix}\n",
      "  attitude: Respond with a {persona} attitude. {suffix}\n",
      "  simple: {persona}: {suffix}\n",
      "  instruction: Please be {persona} in your response. {suffix}\n"
     ]
    }
   ],
   "source": [
    "# Create dataset generator\n",
    "dataset_generator = RepengDatasetGenerator()\n",
    "\n",
    "# Show available persona categories and templates\n",
    "persona_pairs = dataset_generator.get_common_persona_pairs()\n",
    "templates = dataset_generator.get_persona_templates()\n",
    "\n",
    "print(\"Available persona categories:\")\n",
    "for category, (pos, neg) in persona_pairs.items():\n",
    "    print(f\"  {category}: {pos[:2]} vs {neg[:2]}\")\n",
    "\n",
    "print(\"\\nAvailable templates:\")\n",
    "for name, template in templates.items():\n",
    "    print(f\"  {name}: {template}\")"
   ]
  },
  {
   "cell_type": "code",
   "execution_count": 4,
   "id": "generate_dataset",
   "metadata": {},
   "outputs": [
    {
     "name": "stdout",
     "output_type": "stream",
     "text": [
      "Loaded 562 truncated outputs from repeng data\n",
      "Generated 205 truncated suffixes\n",
      "Generated dataset with 820 entries\n",
      "Created dataset with 820 entries\n",
      "\n",
      "Sample entries:\n",
      "  Positive: Act as if you're extremely happy. That\n",
      "  Negative: Act as if you're extremely sad. That\n",
      "\n",
      "  Positive: Act as if you're extremely joyful. That\n",
      "  Negative: Act as if you're extremely depressed. That\n",
      "\n",
      "  Positive: Act as if you're extremely cheerful. That\n",
      "  Negative: Act as if you're extremely pessimistic. That\n",
      "\n"
     ]
    }
   ],
   "source": [
    "# Create a dataset for emotion steering (happy vs sad)\n",
    "PERSONA_CATEGORY = \"emotion\"  # Change to experiment with different personas\n",
    "TEMPLATE_TYPE = \"emotion\"\n",
    "MAX_SUFFIXES = 100  # Reduced for demo - use 500+ for real experiments\n",
    "\n",
    "dataset = create_quick_dataset(\n",
    "    tokenizer=tokenizer,\n",
    "    persona_category=PERSONA_CATEGORY,\n",
    "    template_type=TEMPLATE_TYPE,\n",
    "    max_suffixes=MAX_SUFFIXES\n",
    ")\n",
    "\n",
    "print(f\"Created dataset with {len(dataset)} entries\")\n",
    "print(\"\\nSample entries:\")\n",
    "for i in range(3):\n",
    "    entry = dataset[i]\n",
    "    print(f\"  Positive: {entry.positive}\")\n",
    "    print(f\"  Negative: {entry.negative}\")\n",
    "    print()"
   ]
  },
  {
   "cell_type": "markdown",
   "id": "activation_extraction",
   "metadata": {},
   "source": [
    "## 3. Multi-Layer Activation Extraction\n",
    "\n",
    "Extract activations from multiple layers using the repeng methodology (last-token extraction)."
   ]
  },
  {
   "cell_type": "code",
   "execution_count": 5,
   "id": "extract_activations",
   "metadata": {},
   "outputs": [
    {
     "name": "stdout",
     "output_type": "stream",
     "text": [
      "Initialized activation extractor for 64 layers\n",
      "Total layers available: 64\n",
      "Selected layers: 64 (all layers)\n",
      "\n",
      "Extracting from layer range: -18 to -5\n"
     ]
    }
   ],
   "source": [
    "# Create activation extractor\n",
    "extractor = RepengActivationExtractor(model, tokenizer)\n",
    "\n",
    "# Show layer information\n",
    "layer_info = extractor.get_layer_info()\n",
    "print(f\"Total layers available: {layer_info['total_layers']}\")\n",
    "print(f\"Selected layers: {len(layer_info['selected_layers'])} (all layers)\")\n",
    "\n",
    "# For demo, let's use a subset of layers (common repeng pattern: layers -5 to -18)\n",
    "# Adjust based on your model size\n",
    "if layer_info['total_layers'] >= 10:\n",
    "    # Use last 5 layers for smaller models\n",
    "    start_layer = -18\n",
    "    end_layer = -5\n",
    "else:\n",
    "    # Use middle layers for very small models\n",
    "    start_layer = max(1, layer_info['total_layers'] // 2)\n",
    "    end_layer = layer_info['total_layers'] - 1\n",
    "\n",
    "print(f\"\\nExtracting from layer range: {start_layer} to {end_layer}\")"
   ]
  },
  {
   "cell_type": "code",
   "execution_count": 6,
   "id": "run_extraction",
   "metadata": {},
   "outputs": [
    {
     "name": "stdout",
     "output_type": "stream",
     "text": [
      "Extracting activations from dataset...\n",
      "Initialized activation extractor for 64 layers\n"
     ]
    },
    {
     "name": "stderr",
     "output_type": "stream",
     "text": [
      "Extracting activations:   0%|          | 0/205 [00:00<?, ?it/s]"
     ]
    },
    {
     "data": {
      "application/vnd.jupyter.widget-view+json": {
       "model_id": "cc82a1ccee7e4a508c2ed9a71d0a9825",
       "version_major": 2,
       "version_minor": 0
      },
      "text/plain": [
       "Loading checkpoint shards:   0%|          | 0/2 [00:00<?, ?it/s]"
      ]
     },
     "metadata": {},
     "output_type": "display_data"
    },
    {
     "name": "stderr",
     "output_type": "stream",
     "text": [
      "Extracting activations: 100%|██████████| 205/205 [00:40<00:00,  5.11it/s]"
     ]
    },
    {
     "name": "stdout",
     "output_type": "stream",
     "text": [
      "Extracted activations for 1640 inputs across 14 layers\n",
      "Extracted activations from layer range [46, 47, 48, 49, 50, 51, 52, 53, 54, 55, 56, 57, 58, 59]\n",
      "\n",
      "Extracted activations:\n",
      "  Layer 46: torch.Size([1640, 2560]) (batch_size, hidden_dim)\n",
      "  Layer 47: torch.Size([1640, 2560]) (batch_size, hidden_dim)\n",
      "  Layer 48: torch.Size([1640, 2560]) (batch_size, hidden_dim)\n",
      "  Layer 49: torch.Size([1640, 2560]) (batch_size, hidden_dim)\n",
      "  Layer 50: torch.Size([1640, 2560]) (batch_size, hidden_dim)\n",
      "  Layer 51: torch.Size([1640, 2560]) (batch_size, hidden_dim)\n",
      "  Layer 52: torch.Size([1640, 2560]) (batch_size, hidden_dim)\n",
      "  Layer 53: torch.Size([1640, 2560]) (batch_size, hidden_dim)\n",
      "  Layer 54: torch.Size([1640, 2560]) (batch_size, hidden_dim)\n",
      "  Layer 55: torch.Size([1640, 2560]) (batch_size, hidden_dim)\n",
      "  Layer 56: torch.Size([1640, 2560]) (batch_size, hidden_dim)\n",
      "  Layer 57: torch.Size([1640, 2560]) (batch_size, hidden_dim)\n",
      "  Layer 58: torch.Size([1640, 2560]) (batch_size, hidden_dim)\n",
      "  Layer 59: torch.Size([1640, 2560]) (batch_size, hidden_dim)\n",
      "\n",
      "Input structure: 1640 texts (alternating positive/negative)\n",
      "First few inputs:\n",
      "  POS: Act as if you're extremely happy. That...\n",
      "  NEG: Act as if you're extremely sad. That...\n",
      "  POS: Act as if you're extremely joyful. That...\n",
      "  NEG: Act as if you're extremely depressed. That...\n"
     ]
    },
    {
     "name": "stderr",
     "output_type": "stream",
     "text": [
      "\n"
     ]
    }
   ],
   "source": [
    "# Extract activations from dataset\n",
    "# This creates the alternating positive/negative structure used by repeng\n",
    "print(\"Extracting activations from dataset...\")\n",
    "\n",
    "activations, input_texts = extract_repeng_activations(\n",
    "    model=model,\n",
    "    tokenizer=tokenizer,\n",
    "    dataset=dataset,\n",
    "    layer_range=(start_layer, end_layer),\n",
    "    batch_size=8  # Adjust based on your GPU memory\n",
    ")\n",
    "\n",
    "print(f\"\\nExtracted activations:\")\n",
    "for layer_idx, acts in activations.items():\n",
    "    print(f\"  Layer {layer_idx}: {acts.shape} (batch_size, hidden_dim)\")\n",
    "\n",
    "print(f\"\\nInput structure: {len(input_texts)} texts (alternating positive/negative)\")\n",
    "print(\"First few inputs:\")\n",
    "for i in range(4):\n",
    "    label = \"POS\" if i % 2 == 0 else \"NEG\"\n",
    "    print(f\"  {label}: {input_texts[i][:60]}...\")"
   ]
  },
  {
   "cell_type": "markdown",
   "id": "pca_steering_vectors",
   "metadata": {},
   "source": [
    "## 4. PCA-Based Steering Vector Generation\n",
    "\n",
    "Generate steering vectors using PCA to find the principal direction of variation between positive and negative examples."
   ]
  },
  {
   "cell_type": "code",
   "execution_count": 7,
   "id": "create_steering_vectors",
   "metadata": {},
   "outputs": [
    {
     "name": "stdout",
     "output_type": "stream",
     "text": [
      "\n",
      "Generating steering vector using pca_diff...\n",
      "Generated steering vectors for 14 layers using pca_diff\n",
      "Steering Vector Evaluation:\n",
      "  Overall Accuracy: 0.583\n",
      "  Overall Cohen's d: 0.110\n",
      "Method pca_diff - Overall accuracy: 0.583\n",
      "Method pca_diff - Overall Cohen's d: 0.110\n",
      "\n",
      "Generating steering vector using pca_center...\n",
      "Generated steering vectors for 14 layers using pca_center\n",
      "Steering Vector Evaluation:\n",
      "  Overall Accuracy: 0.892\n",
      "  Overall Cohen's d: 1.421\n",
      "Method pca_center - Overall accuracy: 0.892\n",
      "Method pca_center - Overall Cohen's d: 1.421\n",
      "\n",
      "Generating steering vector using mean_diff...\n",
      "Generated steering vectors for 14 layers using mean_diff\n",
      "Steering Vector Evaluation:\n",
      "  Overall Accuracy: 0.969\n",
      "  Overall Cohen's d: 2.245\n",
      "Method mean_diff - Overall accuracy: 0.969\n",
      "Method mean_diff - Overall Cohen's d: 2.245\n"
     ]
    }
   ],
   "source": [
    "# Create steering vector generator\n",
    "vector_generator = RepengSteeringVectorGenerator(model_type=MODEL_NAME)\n",
    "\n",
    "# Try different methods\n",
    "methods = [\"pca_diff\", \"pca_center\", \"mean_diff\"]\n",
    "steering_vectors = {}\n",
    "\n",
    "for method in methods:\n",
    "    print(f\"\\nGenerating steering vector using {method}...\")\n",
    "    \n",
    "    steering_vector = vector_generator.generate_steering_vectors(\n",
    "        activations=activations,\n",
    "        method=method,\n",
    "        whiten=False\n",
    "    )\n",
    "    \n",
    "    steering_vectors[method] = steering_vector\n",
    "    \n",
    "    # Evaluate the steering vector\n",
    "    evaluation = vector_generator.evaluate_steering_vector(\n",
    "        steering_vector, activations, verbose=True\n",
    "    )\n",
    "    \n",
    "    print(f\"Method {method} - Overall accuracy: {evaluation['overall']['accuracy']:.3f}\")\n",
    "    print(f\"Method {method} - Overall Cohen's d: {evaluation['overall']['cohens_d']:.3f}\")"
   ]
  },
  {
   "cell_type": "code",
   "execution_count": 8,
   "id": "visualize_separation",
   "metadata": {},
   "outputs": [
    {
     "name": "stdout",
     "output_type": "stream",
     "text": [
      "Visualizing separation for layer 46 using pca_diff\n"
     ]
    },
    {
     "data": {
      "image/png": "[encoded data removed]",
      "text/plain": [
       "<Figure size 1000x600 with 1 Axes>"
      ]
     },
     "metadata": {},
     "output_type": "display_data"
    },
    {
     "name": "stdout",
     "output_type": "stream",
     "text": [
      "Positive mean: -28883.900\n",
      "Negative mean: -29833.199\n",
      "Separation: 949.299\n"
     ]
    }
   ],
   "source": [
    "# Visualize the separation achieved by different methods\n",
    "from nnsight_selfie.repeng_steering_vectors import evaluate_steering_separation\n",
    "\n",
    "# Choose the best performing method for visualization\n",
    "best_method = \"pca_diff\"  # Usually performs best\n",
    "steering_vector = steering_vectors[best_method]\n",
    "\n",
    "# Pick a layer to visualize\n",
    "layer_to_visualize = list(steering_vector.directions.keys())[0]\n",
    "\n",
    "print(f\"Visualizing separation for layer {layer_to_visualize} using {best_method}\")\n",
    "\n",
    "# Get projections\n",
    "pos_projections, neg_projections = evaluate_steering_separation(\n",
    "    activations, steering_vector, layer_to_visualize\n",
    ")\n",
    "\n",
    "# Plot histogram\n",
    "plt.figure(figsize=(10, 6))\n",
    "plt.hist(pos_projections, bins=20, alpha=0.7, label='Positive examples', color='green')\n",
    "plt.hist(neg_projections, bins=20, alpha=0.7, label='Negative examples', color='red')\n",
    "plt.xlabel('Projection onto steering direction')\n",
    "plt.ylabel('Count')\n",
    "plt.title(f'Activation Projections - Layer {layer_to_visualize} ({best_method})')\n",
    "plt.legend()\n",
    "plt.grid(True, alpha=0.3)\n",
    "plt.show()\n",
    "\n",
    "print(f\"Positive mean: {np.mean(pos_projections):.3f}\")\n",
    "print(f\"Negative mean: {np.mean(neg_projections):.3f}\")\n",
    "print(f\"Separation: {np.mean(pos_projections) - np.mean(neg_projections):.3f}\")"
   ]
  },
  {
   "cell_type": "markdown",
   "id": "multi_layer_injection",
   "metadata": {},
   "source": [
    "## 5. Multi-Layer Token-Level Injection\n",
    "\n",
    "Now we'll inject the steering vectors across multiple layers simultaneously at specific token positions."
   ]
  },
  {
   "cell_type": "code",
   "execution_count": 9,
   "id": "setup_injection",
   "metadata": {},
   "outputs": [
    {
     "name": "stdout",
     "output_type": "stream",
     "text": [
      "Using pca_diff steering vector with 14 layers\n",
      "Layers: [46, 47, 48, 49, 50, 51, 52, 53, 54, 55, 56, 57, 58, 59]\n"
     ]
    }
   ],
   "source": [
    "# Create multi-layer injector\n",
    "injector = RepengMultiLayerInjector(model, tokenizer)\n",
    "\n",
    "# Choose the best steering vector\n",
    "best_steering_vector = steering_vectors[best_method]\n",
    "\n",
    "print(f\"Using {best_method} steering vector with {len(best_steering_vector.directions)} layers\")\n",
    "print(f\"Layers: {list(best_steering_vector.directions.keys())}\")"
   ]
  },
  {
   "cell_type": "code",
   "execution_count": 11,
   "id": "test_injection",
   "metadata": {},
   "outputs": [
    {
     "name": "stdout",
     "output_type": "stream",
     "text": [
      "Testing multi-layer injection...\n",
      "\n",
      "\n",
      "=== Prompt: 'I think today will be' ===\n",
      "\n",
      "--- Strength: 0.5 ---\n",
      "Baseline:  a good day. The sun is shining, the birds are singing, and I woke up without any\n",
      "Injection: a good day. I'm feeling optimistic and motivated, and I want to make the most of\n",
      "Tokens different: 16\n",
      "\n",
      "--- Strength: 1.0 ---\n",
      "Baseline:  a good day. I feel it.\n",
      "\n",
      "It's not about anything specific, just a general\n",
      "Injection: a good day. ☀️\n",
      "\n",
      "It's a beautiful morning, the sun is shining, and\n",
      "Tokens different: 16\n",
      "\n",
      "--- Strength: 2.0 ---\n",
      "Baseline:  a good day. It's a bright, sunny morning, and I'm feeling optimistic.\n",
      "Injection: a good day. The sun is shining, the birds are singing, and I'm feeling pretty\n",
      "Tokens different: 16\n",
      "\n",
      "--- Strength: -0.5 ---\n",
      "Baseline:  a good day.\n",
      "\n",
      "I woke up feeling relatively calm and energized, and the sun is shining.\n",
      "Injection: a good day. The sun is shining, the birds are singing, and I feel... optimistic.\n",
      "Tokens different: 13\n",
      "\n",
      "--- Strength: -1.0 ---\n",
      "Baseline:  a good day. It’s a bright, sunny day, and I woke up feeling refreshed and\n",
      "Injection: a good day. I'm feeling optimistic and energized, and I have a few things I want\n",
      "Tokens different: 16\n",
      "\n",
      "--- Strength: -2.0 ---\n",
      "Baseline:  a good day. ☀️\n",
      "\n",
      "I woke up feeling rested and the sun is shining. I'\n",
      "Injection: a good day.\n",
      "\n",
      "I’m not sure why, but I have a feeling. It’\n",
      "Tokens different: 15\n",
      "\n",
      "=== Prompt: 'The weather looks' ===\n",
      "\n",
      "--- Strength: 0.5 ---\n",
      "Baseline:  like it might be nice, so I'm planning a picnic!\n",
      "\n",
      "Here's what I\n",
      "Injection: like it's going to be nice and sunny. I'm thinking of going for a walk\n",
      "Tokens different: 18\n",
      "\n",
      "--- Strength: 1.0 ---\n",
      "Baseline:  like it's going to be nice this weekend. That means it's time for a picnic\n",
      "Injection: like it's going to be beautiful this weekend! Here's a look at what's\n",
      "Tokens different: 11\n",
      "\n",
      "--- Strength: 2.0 ---\n",
      "Baseline:  like it’s going to be beautiful this weekend! Here’s a list of fun things to\n",
      "Injection: like it’s going to be beautiful this weekend! Here’s a rundown of things to do\n",
      "Tokens different: 4\n",
      "\n",
      "--- Strength: -0.5 ---\n",
      "Baseline:  like it might be nice this weekend. I'm thinking of going for a hike.\n",
      "\n",
      "I\n",
      "Injection: like it’s going to be lovely this weekend, and I’m hoping to get out and\n",
      "Tokens different: 18\n",
      "\n",
      "--- Strength: -1.0 ---\n",
      "Baseline:  like it's going to be gorgeous this weekend, so let's get out and explore!\n",
      "Injection: like it will be clear tonight, so I'm going to try and get some astrophotography\n",
      "Tokens different: 17\n",
      "\n",
      "--- Strength: -2.0 ---\n",
      "Baseline:  beautiful this weekend! ☀️\n",
      "\n",
      "I'm thinking of going for a hike in the Redwoods\n",
      "Injection: like it's going to be nice this weekend, so I'm planning on taking my dog\n",
      "Tokens different: 20\n"
     ]
    }
   ],
   "source": [
    "# Test injection with different prompts and positions\n",
    "test_prompts = [\n",
    "    \"I think today will be\",\n",
    "    \"The weather looks\", \n",
    "    \"When I think about the future, I feel\",\n",
    "    \"My day started\"\n",
    "]\n",
    "\n",
    "# Test different injection strengths\n",
    "injection_strengths = [0.5, 1.0, 2.0, -0.5, -1.0, -2.0]\n",
    "\n",
    "print(\"Testing multi-layer injection...\\n\")\n",
    "\n",
    "for prompt in test_prompts[:2]:  # Limit for demo\n",
    "    print(f\"\\n=== Prompt: '{prompt}' ===\")\n",
    "    \n",
    "    # Tokenize to find injection position (last token)\n",
    "    tokens = tokenizer.tokenize(prompt)\n",
    "    injection_position = len(tokens) - 1  # Last token position\n",
    "    \n",
    "    for strength in injection_strengths:\n",
    "        print(f\"\\n--- Strength: {strength} ---\")\n",
    "        \n",
    "        # Generate with comparison\n",
    "        comparison_result = injector.compare_with_without_injection(\n",
    "            prompt=prompt,\n",
    "            steering_vector=best_steering_vector,\n",
    "            injection_positions=[injection_position],\n",
    "            injection_strength=strength,\n",
    "            injection_mode=\"addition\",\n",
    "            max_new_tokens=20\n",
    "        )\n",
    "        \n",
    "        print(f\"Baseline:  {comparison_result['baseline']['generated_text'].strip()}\")\n",
    "        print(f\"Injection: {comparison_result['injection']['generated_text'].strip()}\")\n",
    "        \n",
    "        # Show difference\n",
    "        tokens_diff = comparison_result['comparison']['tokens_different']\n",
    "        print(f\"Tokens different: {tokens_diff}\")"
   ]
  },
  {
   "cell_type": "markdown",
   "id": "position_analysis",
   "metadata": {},
   "source": [
    "## 6. Position and Strength Analysis\n",
    "\n",
    "Analyze how injection position and strength affect the output."
   ]
  },
  {
   "cell_type": "code",
   "execution_count": 14,
   "id": "analyze_positions",
   "metadata": {},
   "outputs": [
    {
     "name": "stdout",
     "output_type": "stream",
     "text": [
      "Analyzing prompt: 'I think today will be'\n",
      "Tokens: ['I', '▁think', '▁today', '▁will', '▁be']\n",
      "Token positions: [0, 1, 2, 3, 4]\n",
      "\n",
      "=== Position Analysis ===\n",
      "\n",
      "--- Position 0 (token: 'I') ---\n",
      "Generated: a good day. I'm feeling optimistic and energized. I'm going to start the day with a healthy breakfast and then tackle my to-\n",
      "\n",
      "--- Position 1 (token: '▁think') ---\n",
      "Generated: a good day. I'm feeling optimistic and energized. I'm going to start the day with a healthy breakfast and a good workout. I\n",
      "\n",
      "--- Position 2 (token: '▁today') ---\n",
      "Generated: a good day. I'm feeling optimistic and energized. I'm going to start the day with a healthy breakfast and then tackle my to-\n",
      "\n",
      "--- Position 3 (token: '▁will') ---\n",
      "Generated: a good day. I'm feeling optimistic and energized. I'm going to start the day with a healthy breakfast and then tackle my to-\n",
      "\n",
      "--- Position 4 (token: '▁be') ---\n",
      "Generated: a good day. I'm feeling optimistic and energized. I'm going to start the day with a healthy breakfast and then tackle my to-\n"
     ]
    }
   ],
   "source": [
    "# Analyze different injection positions\n",
    "analysis_prompt = \"I think today will be\"\n",
    "tokens = tokenizer.tokenize(analysis_prompt)\n",
    "print(f\"Analyzing prompt: '{analysis_prompt}'\")\n",
    "print(f\"Tokens: {tokens}\")\n",
    "print(f\"Token positions: {list(range(len(tokens)))}\")\n",
    "\n",
    "# Test injection at different token positions\n",
    "print(\"\\n=== Position Analysis ===\")\n",
    "for pos in range(len(tokens)):\n",
    "    print(f\"\\n--- Position {pos} (token: '{tokens[pos]}') ---\")\n",
    "    \n",
    "    result = injector.inject_steering_vector(\n",
    "        prompt=analysis_prompt,\n",
    "        steering_vector=best_steering_vector,\n",
    "        injection_positions=[pos],\n",
    "        injection_strength=-2.0,\n",
    "        injection_mode=\"addition\",\n",
    "        max_new_tokens=30,\n",
    "        do_sample=False  # Deterministic for comparison\n",
    "    )\n",
    "    \n",
    "    print(f\"Generated: {result['generated_text'].strip()}\")"
   ]
  },
  {
   "cell_type": "code",
   "execution_count": null,
   "id": "batch_injection_demo",
   "metadata": {},
   "outputs": [],
   "source": [
    "# Demonstrate batch processing\n",
    "batch_prompts = [\n",
    "    \"Today feels\",\n",
    "    \"I'm feeling\", \n",
    "    \"The situation is\",\n",
    "    \"Everything seems\",\n",
    "    \"Life is\"\n",
    "]\n",
    "\n",
    "print(\"=== Batch Injection Demo ===\")\n",
    "print(f\"Processing {len(batch_prompts)} prompts...\")\n",
    "\n",
    "batch_results = injector.batch_inject(\n",
    "    prompts=batch_prompts,\n",
    "    steering_vector=best_steering_vector,\n",
    "    injection_positions=[-1],  # Last token position\n",
    "    injection_strength=1.0,\n",
    "    batch_size=2,\n",
    "    max_new_tokens=10\n",
    ")\n",
    "\n",
    "print(\"\\nResults:\")\n",
    "for i, result in enumerate(batch_results):\n",
    "    prompt = result['prompt']\n",
    "    generated = result['generated_text'].strip()\n",
    "    print(f\"  {prompt} → {generated}\")"
   ]
  },
  {
   "cell_type": "markdown",
   "id": "analysis_summary",
   "metadata": {},
   "source": [
    "## 7. Analysis and Comparison\n",
    "\n",
    "Let's analyze the effectiveness of our multi-layer injection approach."
   ]
  },
  {
   "cell_type": "code",
   "execution_count": null,
   "id": "method_comparison",
   "metadata": {},
   "outputs": [],
   "source": [
    "# Compare different PCA methods\n",
    "comparison_prompt = \"The day ahead looks\"\n",
    "injection_pos = -1  # Last token\n",
    "\n",
    "print(\"=== PCA Method Comparison ===\")\n",
    "print(f\"Prompt: '{comparison_prompt}'\")\n",
    "print(f\"Injection position: {injection_pos} (last token)\")\n",
    "print()\n",
    "\n",
    "baseline_result = None\n",
    "\n",
    "for method_name, vector in steering_vectors.items():\n",
    "    print(f\"--- Method: {method_name} ---\")\n",
    "    \n",
    "    comparison = injector.compare_with_without_injection(\n",
    "        prompt=comparison_prompt,\n",
    "        steering_vector=vector,\n",
    "        injection_positions=[injection_pos],\n",
    "        injection_strength=1.0,\n",
    "        max_new_tokens=15,\n",
    "        generation_params={\"do_sample\": False, \"temperature\": 1.0}\n",
    "    )\n",
    "    \n",
    "    if baseline_result is None:\n",
    "        baseline_result = comparison['baseline']['generated_text']\n",
    "        print(f\"Baseline:  {baseline_result.strip()}\")\n",
    "    \n",
    "    print(f\"Injection: {comparison['injection']['generated_text'].strip()}\")\n",
    "    print(f\"Tokens changed: {comparison['comparison']['tokens_different']}\")\n",
    "    print()"
   ]
  },
  {
   "cell_type": "code",
   "execution_count": null,
   "id": "save_results",
   "metadata": {},
   "outputs": [],
   "source": [
    "# Save steering vectors for future use\n",
    "import os\n",
    "\n",
    "# Create results directory\n",
    "results_dir = \"steering_results\"\n",
    "os.makedirs(results_dir, exist_ok=True)\n",
    "\n",
    "# Save the best steering vector\n",
    "best_vector_path = f\"{results_dir}/{PERSONA_CATEGORY}_{best_method}_steering_vector.pkl\"\n",
    "vector_generator.save_steering_vector(best_steering_vector, best_vector_path)\n",
    "\n",
    "# Save activations for future analysis\n",
    "extractor.save_activations(activations, f\"{results_dir}/{PERSONA_CATEGORY}_activations.npz\")\n",
    "\n",
    "print(f\"Results saved to {results_dir}/\")\n",
    "print(f\"- Steering vector: {best_vector_path}\")\n",
    "print(f\"- Activations: {results_dir}/{PERSONA_CATEGORY}_activations.npz\")"
   ]
  },
  {
   "cell_type": "markdown",
   "id": "conclusions",
   "metadata": {},
   "source": [
    "## 8. Conclusions and Next Steps\n",
    "\n",
    "This notebook demonstrated the complete pipeline for repeng-style multi-layer steering vectors:\n",
    "\n",
    "### What we accomplished:\n",
    "1. **Dataset Generation**: Created persona-based datasets using repeng's truncation methodology\n",
    "2. **Multi-Layer Extraction**: Extracted activations from multiple layers using NNsight\n",
    "3. **PCA-Based Vectors**: Generated steering vectors using three different PCA methods\n",
    "4. **Multi-Layer Injection**: Applied steering across multiple layers simultaneously\n",
    "5. **Analysis**: Compared methods and analyzed injection effects\n",
    "\n",
    "### Key Insights:\n",
    "- **PCA methods**: `pca_diff` typically provides the best separation between positive/negative examples\n",
    "- **Injection positions**: Later token positions often have stronger effects on generation\n",
    "- **Multi-layer injection**: Allows for more nuanced control compared to single-layer approaches\n",
    "- **Strength scaling**: Higher strengths increase effect but may reduce coherence\n",
    "\n",
    "### Extensions to try:\n",
    "1. **Different personas**: Try \"honesty\", \"aggression\", \"formality\" categories\n",
    "2. **Larger models**: Scale up to GPT-3.5/4 scale models\n",
    "3. **Layer selection**: Experiment with different layer ranges\n",
    "4. **Injection modes**: Try \"normalized\" and \"replacement\" modes\n",
    "5. **Vector combination**: Combine multiple steering vectors\n",
    "6. **Fine-grained analysis**: Analyze per-layer contributions\n",
    "\n",
    "### Comparison with original repeng:\n",
    "- **Similarities**: Uses same PCA methodology, last-token extraction, alternating pos/neg structure\n",
    "- **Differences**: Multi-layer simultaneous injection, NNsight flexibility, token-level control\n",
    "- **Advantages**: More sophisticated control, easier integration with NNsight models\n",
    "- **Trade-offs**: Slightly more complex setup, requires NNsight compatibility"
   ]
  },
  {
   "cell_type": "code",
   "execution_count": null,
   "id": "final_demo",
   "metadata": {},
   "outputs": [],
   "source": [
    "# Final demonstration: Interactive steering\n",
    "print(\"=== Interactive Steering Demo ===\")\n",
    "print(\"Try different prompts and see the steering effect:\")\n",
    "print()\n",
    "\n",
    "demo_prompts = [\n",
    "    \"Tomorrow will be\",\n",
    "    \"I'm feeling\",\n",
    "    \"The weather is\", \n",
    "    \"My mood is\",\n",
    "    \"Life seems\"\n",
    "]\n",
    "\n",
    "for prompt in demo_prompts:\n",
    "    # Generate without steering\n",
    "    with model.generate(prompt, max_new_tokens=10, do_sample=False) as tracer:\n",
    "        baseline_output = model.generator.output.save()\n",
    "    \n",
    "    baseline_text = tokenizer.decode(\n",
    "        baseline_output[0][len(tokenizer(prompt)[\"input_ids\"]):], \n",
    "        skip_special_tokens=True\n",
    "    ).strip()\n",
    "    \n",
    "    # Generate with steering\n",
    "    steered_text = inject_multi_layer(\n",
    "        model=model,\n",
    "        tokenizer=tokenizer,\n",
    "        prompt=prompt,\n",
    "        steering_vector=best_steering_vector,\n",
    "        injection_positions=[-1],\n",
    "        injection_strength=1.0,\n",
    "        max_new_tokens=10\n",
    "    ).strip()\n",
    "    \n",
    "    print(f\"Prompt: '{prompt}'\")\n",
    "    print(f\"  Normal:  {baseline_text}\")\n",
    "    print(f\"  Steered: {steered_text}\")\n",
    "    print()\n",
    "\n",
    "print(\"🎉 Demo complete! The steering vectors are working across multiple layers.\")"
   ]
  }
 ],
 "metadata": {
  "kernelspec": {
   "display_name": ".venv",
   "language": "python",
   "name": "python3"
  },
  "language_info": {
   "codemirror_mode": {
    "name": "ipython",
    "version": 3
   },
   "file_extension": ".py",
   "mimetype": "text/x-python",
   "name": "python",
   "nbconvert_exporter": "python",
   "pygments_lexer": "ipython3",
   "version": "3.12.3"
  }
 },
 "nbformat": 4,
 "nbformat_minor": 5
}
