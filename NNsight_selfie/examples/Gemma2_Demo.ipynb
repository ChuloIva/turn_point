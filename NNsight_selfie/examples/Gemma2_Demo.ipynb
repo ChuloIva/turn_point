{
 "cells": [
  {
   "cell_type": "markdown",
   "metadata": {},
   "source": [
    "# NNsight Selfie with Gemma2 2B - Complete Demo\n",
    "\n",
    "This notebook demonstrates how to use NNsight Selfie for neural network interpretation with Google's Gemma2 2B model. It showcases automatic MPS detection for Apple Silicon Macs and various interpretation techniques.\n",
    "\n",
    "## Features Demonstrated:\n",
    "- Automatic device detection (MPS/CUDA/CPU)\n",
    "- Token-level interpretation \n",
    "- Activation extraction and analysis\n",
    "- Vector arithmetic with activations\n",
    "- Custom interpretation prompts\n",
    "- Performance optimization"
   ]
  },
  {
   "cell_type": "markdown",
   "metadata": {},
   "source": []
  },
  {
   "cell_type": "markdown",
   "metadata": {},
   "source": [
    "## Setup and Installation\n",
    "\n",
    "First, let's install the required packages and set up our environment."
   ]
  },
  {
   "cell_type": "code",
   "execution_count": null,
   "metadata": {},
   "outputs": [
    {
     "name": "stdout",
     "output_type": "stream",
     "text": [
      "✅ Setup complete!\n"
     ]
    }
   ],
   "source": [
    "# Install required packages (uncomment if needed)\n",
    "# !pip install torch transformers nnsight tqdm pandas numpy matplotlib seaborn\n",
    "# !pip install accelerate  # For efficient model loading\n",
    "\n",
    "#FOR AMD GPU\n",
    "import os\n",
    "os.environ[\"HSA_OVERRIDE_GFX_VERSION\"] = \"11.0.0\"\n",
    "os.environ[\"HIP_VISIBLE_DEVICES\"] = \"0\"\n",
    "os.environ[\"AMD_SERIALIZE_KERNEL\"] = \"3\"\n",
    "os.environ[\"TORCH_USE_HIP_DSA\"] = \"1\"\n",
    "\n",
    "#IMPORTS\n",
    "import sys\n",
    "import os\n",
    "import warnings\n",
    "\n",
    "# Add parent directory to path to import nnsight_selfie\n",
    "sys.path.insert(0, os.path.join(os.path.dirname(os.getcwd()), '..'))\n",
    "warnings.filterwarnings('ignore', category=FutureWarning)\n",
    "\n",
    "# Import our library\n",
    "from nnsight_selfie import (\n",
    "    ModelAgnosticSelfie, \n",
    "    InterpretationPrompt, \n",
    "    print_device_info, \n",
    "    get_optimal_device\n",
    ")\n",
    "\n",
    "# Standard imports\n",
    "import torch\n",
    "import numpy as np\n",
    "import pandas as pd\n",
    "import matplotlib.pyplot as plt\n",
    "import seaborn as sns\n",
    "from tqdm import tqdm\n",
    "import json\n",
    "from typing import List, Dict, Any\n",
    "\n",
    "# Set up plotting\n",
    "plt.style.use('default')\n",
    "sns.set_palette(\"husl\")\n",
    "%matplotlib inline\n",
    "\n",
    "print(\"✅ Setup complete!\")"
   ]
  },
  {
   "cell_type": "markdown",
   "metadata": {},
   "source": [
    "## Device Detection and Compatibility\n",
    "\n",
    "Let's check what devices are available and see automatic MPS detection in action."
   ]
  },
  {
   "cell_type": "code",
   "execution_count": 2,
   "metadata": {},
   "outputs": [
    {
     "name": "stdout",
     "output_type": "stream",
     "text": [
      "=== Device Detection ===\n",
      "=== Device Information ===\n",
      "Platform: Linux x86_64\n",
      "Python: 3.12.3\n",
      "PyTorch: 2.4.1+rocm6.0\n",
      "Optimal Device: cuda\n",
      "\n",
      "=== MPS Support ===\n",
      "MPS Available: False\n",
      "MPS Built: False\n",
      "\n",
      "=== CUDA Support ===\n",
      "CUDA Available: True\n",
      "CUDA Version: None\n",
      "Device Count: 1\n",
      "Primary Device: AMD Radeon RX 7700 XT\n",
      "\n",
      "🚀 Optimal device for this system: cuda\n",
      "\n",
      "🔧 PyTorch version: 2.4.1+rocm6.0\n",
      "🚀 NVIDIA GPU detected: AMD Radeon RX 7700 XT\n"
     ]
    }
   ],
   "source": [
    "# Show detailed device information\n",
    "print(\"=== Device Detection ===\")\n",
    "print_device_info()\n",
    "\n",
    "# Get optimal device\n",
    "optimal_device = get_optimal_device()\n",
    "print(f\"🚀 Optimal device for this system: {optimal_device}\")\n",
    "\n",
    "# Show PyTorch device info\n",
    "print(f\"\\n🔧 PyTorch version: {torch.__version__}\")\n",
    "if optimal_device == \"mps\":\n",
    "    print(\"🍎 Apple Silicon Mac detected - using Metal Performance Shaders!\")\n",
    "elif optimal_device == \"cuda\":\n",
    "    print(f\"🚀 NVIDIA GPU detected: {torch.cuda.get_device_name(0)}\")\n",
    "else:\n",
    "    print(\"💻 Using CPU - consider upgrading to GPU/MPS for better performance\")"
   ]
  },
  {
   "cell_type": "markdown",
   "metadata": {},
   "source": [
    "## Loading Gemma2 2B Model\n",
    "\n",
    "Now let's load the Gemma2 2B model with automatic device detection. This model is perfect for interpretation tasks - large enough to be interesting but small enough to run efficiently."
   ]
  },
  {
   "cell_type": "code",
   "execution_count": 3,
   "metadata": {},
   "outputs": [
    {
     "name": "stdout",
     "output_type": "stream",
     "text": [
      "Loading Gemma2 2B model...\n",
      "This may take a few minutes on first run (downloading ~5GB)\n",
      "Initializing model on device: cuda\n"
     ]
    },
    {
     "name": "stderr",
     "output_type": "stream",
     "text": [
      "`torch_dtype` is deprecated! Use `dtype` instead!\n"
     ]
    },
    {
     "name": "stdout",
     "output_type": "stream",
     "text": [
      "Model loaded successfully with 26 layers detected.\n",
      "✅ Model loaded successfully on: cuda\n",
      "📊 Detected 26 transformer layers\n",
      "🔤 Tokenizer vocabulary size: 256000\n",
      "\n",
      "📋 Layer structure:\n",
      "  Layer 0: model.layers.0\n",
      "  Layer 1: model.layers.1\n",
      "  Layer 2: model.layers.2\n",
      "  Layer 3: model.layers.3\n",
      "  Layer 4: model.layers.4\n",
      "  ... and 21 more layers\n"
     ]
    }
   ],
   "source": [
    "# Initialize Gemma2 2B with automatic device selection\n",
    "print(\"Loading Gemma2 2B model...\")\n",
    "print(\"This may take a few minutes on first run (downloading ~5GB)\")\n",
    "\n",
    "try:\n",
    "    # Load with automatic device detection\n",
    "    selfie = ModelAgnosticSelfie(\n",
    "        \"google/gemma-2-2b-it\",  # Instruction-tuned version\n",
    "        torch_dtype=torch.float16,  # Use half precision for efficiency\n",
    "        # device_map=\"auto\"  # This is handled automatically now\n",
    "    )\n",
    "    \n",
    "    print(f\"✅ Model loaded successfully on: {selfie.device}\")\n",
    "    print(f\"📊 Detected {len(selfie.layer_paths)} transformer layers\")\n",
    "    print(f\"🔤 Tokenizer vocabulary size: {len(selfie.model.tokenizer)}\")\n",
    "    \n",
    "    # Show some layer information\n",
    "    print(\"\\n📋 Layer structure:\")\n",
    "    for i, layer_path in enumerate(selfie.layer_paths[:5]):\n",
    "        print(f\"  Layer {i}: {layer_path}\")\n",
    "    if len(selfie.layer_paths) > 5:\n",
    "        print(f\"  ... and {len(selfie.layer_paths) - 5} more layers\")\n",
    "        \n",
    "except Exception as e:\n",
    "    print(f\"❌ Failed to load Gemma2: {e}\")\n",
    "    print(\"🔄 Falling back to smaller model for demo...\")\n",
    "    \n",
    "    # Fallback to smaller model if Gemma2 fails\n",
    "    selfie = ModelAgnosticSelfie(\"google/gemma-2-2b\")  # Non-IT version\n",
    "    print(f\"✅ Fallback model loaded on: {selfie.device}\")"
   ]
  },
  {
   "cell_type": "markdown",
   "metadata": {},
   "source": [
    "## Basic Token Interpretation\n",
    "\n",
    "Let's start with basic token interpretation to understand what different parts of the model represent."
   ]
  },
  {
   "cell_type": "code",
   "execution_count": 4,
   "metadata": {},
   "outputs": [
    {
     "name": "stdout",
     "output_type": "stream",
     "text": [
      "Created interpretation prompts:\n",
      "  Concept: 'This represents the concept of _ '\n",
      "  Sentiment: 'This expresses the sentiment of _ '\n",
      "  Entity: 'This refers to the entity _ '\n"
     ]
    }
   ],
   "source": [
    "# Create interpretation prompts\n",
    "concept_prompt = InterpretationPrompt.create_concept_prompt(selfie.model.tokenizer)\n",
    "sentiment_prompt = InterpretationPrompt.create_sentiment_prompt(selfie.model.tokenizer) \n",
    "entity_prompt = InterpretationPrompt.create_entity_prompt(selfie.model.tokenizer)\n",
    "\n",
    "print(\"Created interpretation prompts:\")\n",
    "print(f\"  Concept: '{concept_prompt.get_prompt()}'\")\n",
    "print(f\"  Sentiment: '{sentiment_prompt.get_prompt()}'\")\n",
    "print(f\"  Entity: '{entity_prompt.get_prompt()}'\")"
   ]
  },
  {
   "cell_type": "code",
   "execution_count": 5,
   "metadata": {},
   "outputs": [
    {
     "name": "stdout",
     "output_type": "stream",
     "text": [
      "🧪 Test prompt: 'The brilliant scientist discovered a revolutionary breakthrough in quantum computing.'\n",
      "\n",
      "🔤 Tokenization (12 tokens):\n",
      "   0:     2 -> '<bos>'\n",
      "   1:   651 -> 'The'\n",
      "   2: 21507 -> ' brilliant'\n",
      "   3: 38692 -> ' scientist'\n",
      "   4: 13437 -> ' discovered'\n",
      "   5:   476 -> ' a'\n",
      "   6: 40167 -> ' revolutionary'\n",
      "   7: 58934 -> ' breakthrough'\n",
      "   8:   575 -> ' in'\n",
      "   9: 26589 -> ' quantum'\n",
      "  10: 30359 -> ' computing'\n",
      "  11: 235265 -> '.'\n"
     ]
    }
   ],
   "source": [
    "# Test prompt for interpretation\n",
    "test_prompt = \"The brilliant scientist discovered a revolutionary breakthrough in quantum computing.\"\n",
    "print(f\"🧪 Test prompt: '{test_prompt}'\")\n",
    "\n",
    "# Tokenize to see the tokens\n",
    "tokens = selfie.model.tokenizer.encode(test_prompt)\n",
    "token_strings = [selfie.model.tokenizer.decode([t]) for t in tokens]\n",
    "\n",
    "print(f\"\\n🔤 Tokenization ({len(tokens)} tokens):\")\n",
    "for i, (token_id, token_str) in enumerate(zip(tokens, token_strings)):\n",
    "    print(f\"  {i:2d}: {token_id:5d} -> '{token_str}'\")"
   ]
  },
  {
   "cell_type": "code",
   "execution_count": 6,
   "metadata": {},
   "outputs": [
    {
     "name": "stderr",
     "output_type": "stream",
     "text": [
      "`torch_dtype` is deprecated! Use `dtype` instead!\n"
     ]
    },
    {
     "name": "stdout",
     "output_type": "stream",
     "text": [
      "🔍 Interpreting key tokens...\n",
      "(This may take a minute...)\n",
      "Interpreting 'The brilliant scientist discovered a revolutionary breakthrough in quantum computing.' with 'This represents the concept of _ '\n"
     ]
    },
    {
     "data": {
      "application/vnd.jupyter.widget-view+json": {
       "model_id": "0a1579b5e0c04a18924113bb711ab203",
       "version_major": 2,
       "version_minor": 0
      },
      "text/plain": [
       "Loading checkpoint shards:   0%|          | 0/2 [00:00<?, ?it/s]"
      ]
     },
     "metadata": {},
     "output_type": "display_data"
    },
    {
     "data": {
      "application/vnd.jupyter.widget-view+json": {
       "model_id": "fc9caf99dede4198b63c4ec85b240e82",
       "version_major": 2,
       "version_minor": 0
      },
      "text/plain": [
       "generation_config.json:   0%|          | 0.00/187 [00:00<?, ?B/s]"
      ]
     },
     "metadata": {},
     "output_type": "display_data"
    },
    {
     "name": "stderr",
     "output_type": "stream",
     "text": [
      "You have set `compile_config`, but we are unable to meet the criteria for compilation. Compilation will be skipped.\n",
      "100%|██████████| 2/2 [00:03<00:00,  1.63s/it]"
     ]
    },
    {
     "name": "stdout",
     "output_type": "stream",
     "text": [
      "\n",
      "📊 Interpretation Results:\n",
      "================================================================================\n",
      "Layer  8, Token  2: ' brilliant'\n",
      "  🧠 Interpretation: _ _ _ _ _ _ _ _ _ _ _ _\n",
      "\n",
      "Layer 16, Token  3: ' scientist'\n",
      "  🧠 Interpretation: 's work_.\n",
      "\n",
      "**Explanation:**\n",
      "\n",
      "* **Scientist\n",
      "\n",
      "Layer 12, Token  6: ' revolutionary'\n",
      "  🧠 Interpretation: _ in the context of the field of _ _ .\n",
      "\n",
      "Layer 20, Token  9: ' quantum'\n",
      "  🧠 Interpretation: computing_.\n",
      "\n",
      "**Quantum Computing**\n",
      "\n",
      "Quantum computing is a\n",
      "\n"
     ]
    },
    {
     "name": "stderr",
     "output_type": "stream",
     "text": [
      "\n"
     ]
    }
   ],
   "source": [
    "# Interpret key tokens from different layers\n",
    "interesting_tokens = [\n",
    "    (8, 2),   # \"brilliant\" from middle layer\n",
    "    (16, 3),  # \"scientist\" from deeper layer  \n",
    "    (12, 6),  # \"revolutionary\" from middle-deep layer\n",
    "    (20, 9),  # \"quantum\" from deep layer\n",
    "]\n",
    "\n",
    "print(\"🔍 Interpreting key tokens...\")\n",
    "print(\"(This may take a minute...)\")\n",
    "\n",
    "# Run interpretation\n",
    "results = selfie.interpret(\n",
    "    original_prompt=test_prompt,\n",
    "    interpretation_prompt=concept_prompt,\n",
    "    tokens_to_interpret=interesting_tokens,\n",
    "    max_new_tokens=12,\n",
    "    batch_size=2  # Process in smaller batches\n",
    ")\n",
    "\n",
    "# Display results in a nice format\n",
    "print(\"\\n📊 Interpretation Results:\")\n",
    "print(\"=\" * 80)\n",
    "for i in range(len(results['prompt'])):\n",
    "    layer = results['layer'][i]\n",
    "    token_pos = results['token'][i] \n",
    "    token_text = results['token_decoded'][i]\n",
    "    interpretation = results['interpretation'][i].strip()\n",
    "    \n",
    "    print(f\"Layer {layer:2d}, Token {token_pos:2d}: '{token_text}'\")\n",
    "    print(f\"  🧠 Interpretation: {interpretation}\")\n",
    "    print()\n"
   ]
  },
  {
   "cell_type": "markdown",
   "metadata": {},
   "source": [
    "## Activation Analysis Across Layers\n",
    "\n",
    "Let's analyze how representations change across different layers of the model."
   ]
  },
  {
   "cell_type": "code",
   "execution_count": 12,
   "metadata": {},
   "outputs": [
    {
     "name": "stdout",
     "output_type": "stream",
     "text": [
      "🔬 Analyzing activations for: 'Artificial intelligence will transform healthcare through personalized medicine.'\n",
      "🎯 Target token: ' '\n",
      "📊 Sampling layers: [0, 3, 6, 9, 12, 15, 18, 21] (out of 26 total)\n",
      "✅ Activations extracted!\n"
     ]
    }
   ],
   "source": [
    "# Extract activations from multiple layers for analysis\n",
    "analysis_prompt = \"Artificial intelligence will transform healthcare through personalized medicine.\"\n",
    "target_token = 4  # \"transform\"\n",
    "\n",
    "print(f\"🔬 Analyzing activations for: '{analysis_prompt}'\")\n",
    "print(f\"🎯 Target token: '{selfie.model.tokenizer.decode([selfie.model.tokenizer.encode(analysis_prompt)[target_token]])[0]}'\")\n",
    "\n",
    "# Sample layers across the model\n",
    "total_layers = len(selfie.layer_paths)\n",
    "sample_layers = list(range(0, total_layers, max(1, total_layers // 8)))[:8]\n",
    "\n",
    "print(f\"📊 Sampling layers: {sample_layers} (out of {total_layers} total)\")\n",
    "\n",
    "# Extract activations\n",
    "activations = selfie.get_activations(\n",
    "    analysis_prompt, \n",
    "    layer_indices=sample_layers,\n",
    "    token_indices=[target_token]\n",
    ")\n",
    "\n",
    "print(\"✅ Activations extracted!\")"
   ]
  },
  {
   "cell_type": "code",
   "execution_count": 8,
   "metadata": {},
   "outputs": [
    {
     "name": "stdout",
     "output_type": "stream",
     "text": [
      "📈 Activation Statistics Across Layers:\n",
      "   layer   mean     std      max      min  sparsity     norm\n",
      "0      0  0.043   2.004   33.062  -26.719     0.050   96.188\n",
      "1      3  0.052   2.520   52.125  -16.969     0.047  120.938\n",
      "2      6 -0.028   2.807   65.375  -20.344     0.047  134.750\n",
      "3      9  0.012   3.541   95.688  -32.750     0.039  169.875\n",
      "4     12  0.115   4.227  116.688  -44.875     0.029  203.000\n",
      "5     15  0.112   6.293  191.625  -57.062     0.020  302.000\n",
      "6     18  0.101   8.234  249.250  -59.969     0.010  395.250\n",
      "7     21  0.091  10.844  287.750 -169.500     0.010  520.500\n"
     ]
    }
   ],
   "source": [
    "# Analyze activation statistics across layers\n",
    "stats_data = []\n",
    "\n",
    "for layer_idx in sample_layers:\n",
    "    if isinstance(activations[layer_idx], list):\n",
    "        activation = activations[layer_idx][0]  # First (and only) token\n",
    "    else:\n",
    "        activation = activations[layer_idx][:, target_token, :]  # Extract target token\n",
    "    \n",
    "    # Compute statistics\n",
    "    flat_activation = activation.flatten()\n",
    "    stats = {\n",
    "        'layer': layer_idx,\n",
    "        'mean': float(flat_activation.mean()),\n",
    "        'std': float(flat_activation.std()),\n",
    "        'max': float(flat_activation.max()),\n",
    "        'min': float(flat_activation.min()),\n",
    "        'sparsity': float((flat_activation.abs() < 0.1).float().mean()),\n",
    "        'norm': float(torch.norm(flat_activation))\n",
    "    }\n",
    "    stats_data.append(stats)\n",
    "\n",
    "# Create DataFrame for analysis\n",
    "df_stats = pd.DataFrame(stats_data)\n",
    "print(\"📈 Activation Statistics Across Layers:\")\n",
    "print(df_stats.round(3))"
   ]
  },
  {
   "cell_type": "code",
   "execution_count": 13,
   "metadata": {},
   "outputs": [
    {
     "data": {
      "image/png": "[encoded data removed]",
      "text/plain": [
       "<Figure size 1200x800 with 4 Axes>"
      ]
     },
     "metadata": {},
     "output_type": "display_data"
    },
    {
     "name": "stdout",
     "output_type": "stream",
     "text": [
      "📊 Observations:\n",
      "  - Activation mean ranges from -0.028 to 0.115\n",
      "  - Sparsity varies from 1.0% to 5.0%\n",
      "  - Highest norm at layer 21\n"
     ]
    }
   ],
   "source": [
    "# Visualize activation statistics\n",
    "fig, axes = plt.subplots(2, 2, figsize=(12, 8))\n",
    "fig.suptitle(f'Activation Analysis: \"{selfie.model.tokenizer.decode([selfie.model.tokenizer.encode(analysis_prompt)[target_token]])}\" Across Layers', fontsize=14)\n",
    "\n",
    "# Mean activation\n",
    "axes[0,0].plot(df_stats['layer'], df_stats['mean'], 'o-', color='blue')\n",
    "axes[0,0].set_title('Mean Activation')\n",
    "axes[0,0].set_xlabel('Layer')\n",
    "axes[0,0].grid(True, alpha=0.3)\n",
    "\n",
    "# Standard deviation\n",
    "axes[0,1].plot(df_stats['layer'], df_stats['std'], 'o-', color='green')\n",
    "axes[0,1].set_title('Standard Deviation')\n",
    "axes[0,1].set_xlabel('Layer')\n",
    "axes[0,1].grid(True, alpha=0.3)\n",
    "\n",
    "# Sparsity\n",
    "axes[1,0].plot(df_stats['layer'], df_stats['sparsity'], 'o-', color='red')\n",
    "axes[1,0].set_title('Sparsity (% values < 0.1)')\n",
    "axes[1,0].set_xlabel('Layer')\n",
    "axes[1,0].set_ylabel('Sparsity')\n",
    "axes[1,0].grid(True, alpha=0.3)\n",
    "\n",
    "# Norm\n",
    "axes[1,1].plot(df_stats['layer'], df_stats['norm'], 'o-', color='purple')\n",
    "axes[1,1].set_title('L2 Norm')\n",
    "axes[1,1].set_xlabel('Layer')\n",
    "axes[1,1].grid(True, alpha=0.3)\n",
    "\n",
    "plt.tight_layout()\n",
    "plt.show()\n",
    "\n",
    "print(\"📊 Observations:\")\n",
    "print(f\"  - Activation mean ranges from {df_stats['mean'].min():.3f} to {df_stats['mean'].max():.3f}\")\n",
    "print(f\"  - Sparsity varies from {df_stats['sparsity'].min():.1%} to {df_stats['sparsity'].max():.1%}\")\n",
    "print(f\"  - Highest norm at layer {df_stats.loc[df_stats['norm'].idxmax(), 'layer']}\")"
   ]
  },
  {
   "cell_type": "markdown",
   "metadata": {},
   "source": [
    "## Vector Arithmetic with Gemma2\n",
    "\n",
    "Let's explore the famous \"king - man + woman ≈ queen\" type relationships in Gemma2's representation space."
   ]
  },
  {
   "cell_type": "code",
   "execution_count": 22,
   "metadata": {},
   "outputs": [
    {
     "name": "stdout",
     "output_type": "stream",
     "text": [
      "🧮 Extracting concept activations for vector arithmetic...\n",
      "Target layer: 12 (middle-deep layer)\n"
     ]
    },
    {
     "name": "stderr",
     "output_type": "stream",
     "text": [
      "Extracting activations: 100%|██████████| 8/8 [00:00<00:00, 13.11it/s]"
     ]
    },
    {
     "name": "stdout",
     "output_type": "stream",
     "text": [
      "✅ Extracted activations for 8 concepts\n"
     ]
    },
    {
     "name": "stderr",
     "output_type": "stream",
     "text": [
      "\n"
     ]
    }
   ],
   "source": [
    "# Define concept pairs for vector arithmetic\n",
    "concepts = {\n",
    "    \"doctor\": \"The doctor examined the patient carefully\",\n",
    "    \"nurse\": \"The nurse provided excellent care\", \n",
    "    \"teacher\": \"The teacher explained the concept clearly\",\n",
    "    \"student\": \"The student studied for the exam\",\n",
    "    \"king\": \"The king ruled the kingdom wisely\",\n",
    "    \"queen\": \"The queen addressed the nation\",\n",
    "    \"man\": \"The man walked down the street\",\n",
    "    \"woman\": \"The woman read an interesting book\"\n",
    "}\n",
    "\n",
    "print(\"🧮 Extracting concept activations for vector arithmetic...\")\n",
    "print(\"Target layer: 12 (middle-deep layer)\")\n",
    "\n",
    "concept_activations = {}\n",
    "target_layer = 12\n",
    "\n",
    "# Extract activations for each concept\n",
    "for concept, prompt in tqdm(concepts.items(), desc=\"Extracting activations\"):\n",
    "    # Find the position of the concept word in the tokenization\n",
    "    tokens = selfie.model.tokenizer.encode(prompt)\n",
    "    token_strings = [selfie.model.tokenizer.decode([t]) for t in tokens]\n",
    "    \n",
    "    # Find concept word position (usually position 1 or 2)\n",
    "    concept_pos = 1  # Default\n",
    "    for i, token_str in enumerate(token_strings):\n",
    "        if concept.lower() in token_str.lower():\n",
    "            concept_pos = i\n",
    "            break\n",
    "    \n",
    "    # Extract activation\n",
    "    acts = selfie.get_activations(\n",
    "        prompt, \n",
    "        layer_indices=[target_layer],\n",
    "        token_indices=[concept_pos]\n",
    "    )\n",
    "    \n",
    "    concept_activations[concept] = acts[target_layer][0]  # Shape: [1, hidden_dim]\n",
    "\n",
    "print(f\"✅ Extracted activations for {len(concept_activations)} concepts\")"
   ]
  },
  {
   "cell_type": "code",
   "execution_count": 11,
   "metadata": {},
   "outputs": [
    {
     "name": "stdout",
     "output_type": "stream",
     "text": [
      "🔬 Vector Arithmetic Experiments:\n",
      "==================================================\n",
      "\n",
      "🧮 doctor - man + woman:\n",
      "   Expected: nurse-like\n"
     ]
    },
    {
     "name": "stderr",
     "output_type": "stream",
     "text": [
      "100%|██████████| 1/1 [00:00<00:00,  1.47it/s]\n"
     ]
    },
    {
     "name": "stdout",
     "output_type": "stream",
     "text": [
      "   🤖 AI interpretation: 's_ in the context of the medical field\n",
      "\n",
      "🧮 king - man + woman:\n",
      "   Expected: queen-like\n"
     ]
    },
    {
     "name": "stderr",
     "output_type": "stream",
     "text": [
      "100%|██████████| 1/1 [00:00<00:00,  1.51it/s]\n"
     ]
    },
    {
     "name": "stdout",
     "output_type": "stream",
     "text": [
      "   🤖 AI interpretation: of a country.\n",
      "\n",
      "The concept of **\"\n",
      "\n",
      "🧮 teacher - woman + man:\n",
      "   Expected: teacher-like\n"
     ]
    },
    {
     "name": "stderr",
     "output_type": "stream",
     "text": [
      "100%|██████████| 1/1 [00:00<00:00,  1.52it/s]"
     ]
    },
    {
     "name": "stdout",
     "output_type": "stream",
     "text": [
      "   🤖 AI interpretation: 's_ **_**_**_**\n"
     ]
    },
    {
     "name": "stderr",
     "output_type": "stream",
     "text": [
      "\n"
     ]
    }
   ],
   "source": [
    "# Perform vector arithmetic: doctor - man + woman ≈ nurse?\n",
    "print(\"🔬 Vector Arithmetic Experiments:\")\n",
    "print(\"=\" * 50)\n",
    "\n",
    "experiments = [\n",
    "    (\"doctor\", \"man\", \"woman\", \"Expected: nurse-like\"),\n",
    "    (\"king\", \"man\", \"woman\", \"Expected: queen-like\"), \n",
    "    (\"teacher\", \"woman\", \"man\", \"Expected: teacher-like\"),\n",
    "]\n",
    "\n",
    "for base, subtract, add, expected in experiments:\n",
    "    try:\n",
    "        # Compute: base - subtract + add\n",
    "        result_vector = (\n",
    "            concept_activations[base] - \n",
    "            concept_activations[subtract] + \n",
    "            concept_activations[add]\n",
    "        )\n",
    "        \n",
    "        print(f\"\\n🧮 {base} - {subtract} + {add}:\")\n",
    "        print(f\"   {expected}\")\n",
    "        \n",
    "        # Interpret the result vector\n",
    "        interpretation = selfie.interpret_vectors(\n",
    "            vectors=[result_vector],\n",
    "            interpretation_prompt=concept_prompt,\n",
    "            injection_layer=6,  # Earlier layer for interpretation\n",
    "            max_new_tokens=10\n",
    "        )[0]\n",
    "        \n",
    "        print(f\"   🤖 AI interpretation: {interpretation.strip()}\")\n",
    "        \n",
    "    except Exception as e:\n",
    "        print(f\"   ❌ Failed: {e}\")"
   ]
  },
  {
   "cell_type": "markdown",
   "metadata": {},
   "source": [
    "## Custom Interpretation Prompts\n",
    "\n",
    "Let's create custom interpretation prompts to explore different aspects of the model's representations."
   ]
  },
  {
   "cell_type": "code",
   "execution_count": 14,
   "metadata": {},
   "outputs": [
    {
     "name": "stdout",
     "output_type": "stream",
     "text": [
      "🎭 Custom Interpretation Prompts:\n",
      "  Emotion: 'This neural activation represents the emotion of _ '\n",
      "  Action: 'This pattern encodes the action of _ '\n",
      "  Relationship: 'The relationship captured here is _ '\n",
      "  Abstract: 'This abstraction represents _  in the context of knowledge'\n"
     ]
    }
   ],
   "source": [
    "# Create custom interpretation prompts\n",
    "custom_prompts = {\n",
    "    \"emotion\": InterpretationPrompt(\n",
    "        selfie.model.tokenizer,\n",
    "        [\"This neural activation represents the emotion of \", None]\n",
    "    ),\n",
    "    \"action\": InterpretationPrompt(\n",
    "        selfie.model.tokenizer, \n",
    "        [\"This pattern encodes the action of \", None]\n",
    "    ),\n",
    "    \"relationship\": InterpretationPrompt(\n",
    "        selfie.model.tokenizer,\n",
    "        [\"The relationship captured here is \", None]\n",
    "    ),\n",
    "    \"abstract\": InterpretationPrompt(\n",
    "        selfie.model.tokenizer,\n",
    "        [\"This abstraction represents \", None, \" in the context of knowledge\"]\n",
    "    )\n",
    "}\n",
    "\n",
    "print(\"🎭 Custom Interpretation Prompts:\")\n",
    "for name, prompt in custom_prompts.items():\n",
    "    print(f\"  {name.title()}: '{prompt.get_prompt()}'\")"
   ]
  },
  {
   "cell_type": "code",
   "execution_count": 16,
   "metadata": {},
   "outputs": [
    {
     "name": "stdout",
     "output_type": "stream",
     "text": [
      "🔍 Testing Custom Prompts:\n",
      "============================================================\n",
      "\n",
      "🧪 Test Case 1:\n",
      "   Text: 'She laughed joyfully at the surprise party'\n",
      "   Target: ' party' (pos -1, layer 10)\n",
      "   Expected type: emotion\n",
      "Interpreting 'She laughed joyfully at the surprise party' with 'This neural activation represents the emotion of _ '\n"
     ]
    },
    {
     "name": "stderr",
     "output_type": "stream",
     "text": [
      "100%|██████████| 1/1 [00:00<00:00,  1.83it/s]\n"
     ]
    },
    {
     "name": "stdout",
     "output_type": "stream",
     "text": [
      "   🤖 Emotion: _ .\n",
      "\n",
      "This neural activation represents the\n",
      "\n",
      "🧪 Test Case 2:\n",
      "   Text: 'The athlete sprinted towards the finish line'\n",
      "   Target: ' athlete' (pos 2, layer 8)\n",
      "   Expected type: action\n",
      "Interpreting 'The athlete sprinted towards the finish line' with 'This pattern encodes the action of _ '\n"
     ]
    },
    {
     "name": "stderr",
     "output_type": "stream",
     "text": [
      "100%|██████████| 1/1 [00:00<00:00,  1.88it/s]\n"
     ]
    },
    {
     "name": "stdout",
     "output_type": "stream",
     "text": [
      "   🤖 Action: _ in the context of a _sport\n",
      "\n",
      "🧪 Test Case 3:\n",
      "   Text: 'Democracy requires active citizen participation'\n",
      "   Target: '<bos>' (pos 0, layer 15)\n",
      "   Expected type: abstract\n",
      "Interpreting 'Democracy requires active citizen participation' with 'This abstraction represents _  in the context of knowledge'\n"
     ]
    },
    {
     "name": "stderr",
     "output_type": "stream",
     "text": [
      "100%|██████████| 1/1 [00:00<00:00,  1.85it/s]"
     ]
    },
    {
     "name": "stdout",
     "output_type": "stream",
     "text": [
      "   🤖 Abstract: management_.\n",
      "\n",
      "**Knowledge Management (KM\n"
     ]
    },
    {
     "name": "stderr",
     "output_type": "stream",
     "text": [
      "\n"
     ]
    }
   ],
   "source": [
    "# Test custom prompts on different types of content\n",
    "test_cases = [\n",
    "    {\n",
    "        \"text\": \"She laughed joyfully at the surprise party\",\n",
    "        \"target_token\": -1,  # \"laughed\"\n",
    "        \"layer\": 10,\n",
    "        \"expected_type\": \"emotion\"\n",
    "    },\n",
    "    {\n",
    "        \"text\": \"The athlete sprinted towards the finish line\", \n",
    "        \"target_token\": 2,  # \"sprinted\"\n",
    "        \"layer\": 8,\n",
    "        \"expected_type\": \"action\" \n",
    "    },\n",
    "    {\n",
    "        \"text\": \"Democracy requires active citizen participation\",\n",
    "        \"target_token\": 0,  # \"Democracy\"\n",
    "        \"layer\": 15,\n",
    "        \"expected_type\": \"abstract\"\n",
    "    }\n",
    "]\n",
    "\n",
    "print(\"🔍 Testing Custom Prompts:\")\n",
    "print(\"=\" * 60)\n",
    "\n",
    "for i, test_case in enumerate(test_cases):\n",
    "    text = test_case[\"text\"]\n",
    "    token_pos = test_case[\"target_token\"]\n",
    "    layer = test_case[\"layer\"]\n",
    "    prompt_type = test_case[\"expected_type\"]\n",
    "    \n",
    "    # Get the actual token\n",
    "    tokens = selfie.model.tokenizer.encode(text)\n",
    "    target_token_text = selfie.model.tokenizer.decode([tokens[token_pos]])\n",
    "    \n",
    "    print(f\"\\n🧪 Test Case {i+1}:\")\n",
    "    print(f\"   Text: '{text}'\")\n",
    "    print(f\"   Target: '{target_token_text}' (pos {token_pos}, layer {layer})\")\n",
    "    print(f\"   Expected type: {prompt_type}\")\n",
    "    \n",
    "    try:\n",
    "        # Test with the expected prompt type\n",
    "        result = selfie.interpret(\n",
    "            original_prompt=text,\n",
    "            interpretation_prompt=custom_prompts[prompt_type],\n",
    "            tokens_to_interpret=[(layer, token_pos)],\n",
    "            max_new_tokens=8\n",
    "        )\n",
    "        \n",
    "        interpretation = result['interpretation'][0].strip()\n",
    "        print(f\"   🤖 {prompt_type.title()}: {interpretation}\")\n",
    "        \n",
    "    except Exception as e:\n",
    "        print(f\"   ❌ Error: {e}\")"
   ]
  },
  {
   "cell_type": "markdown",
   "metadata": {},
   "source": [
    "## Performance Analysis\n",
    "\n",
    "Let's analyze the performance of our setup and compare different configurations."
   ]
  },
  {
   "cell_type": "code",
   "execution_count": 17,
   "metadata": {},
   "outputs": [
    {
     "name": "stdout",
     "output_type": "stream",
     "text": [
      "⚡ Performance Benchmark\n",
      "Device: cuda\n",
      "Model: Gemma2 2B\n",
      "Prompt: 'The future of artificial intelligence looks very promising'\n",
      "\n",
      "Running benchmark (this may take a minute)...\n",
      "Interpreting 'The future of artificial intelligence looks very promising' with 'This represents the concept of _ '\n"
     ]
    },
    {
     "name": "stderr",
     "output_type": "stream",
     "text": [
      "100%|██████████| 1/1 [00:01<00:00,  1.02s/it]\n"
     ]
    },
    {
     "name": "stdout",
     "output_type": "stream",
     "text": [
      "Interpreting 'The future of artificial intelligence looks very promising' with 'This represents the concept of _ '\n"
     ]
    },
    {
     "name": "stderr",
     "output_type": "stream",
     "text": [
      "100%|██████████| 1/1 [00:01<00:00,  1.02s/it]\n"
     ]
    },
    {
     "name": "stdout",
     "output_type": "stream",
     "text": [
      "Interpreting 'The future of artificial intelligence looks very promising' with 'This represents the concept of _ '\n"
     ]
    },
    {
     "name": "stderr",
     "output_type": "stream",
     "text": [
      "100%|██████████| 1/1 [00:01<00:00,  1.01s/it]"
     ]
    },
    {
     "name": "stdout",
     "output_type": "stream",
     "text": [
      "\n",
      "📊 Results:\n",
      "  Average time: 1.12 ± 0.01 seconds\n",
      "  Individual times: ['1.13s', '1.13s', '1.12s']\n",
      "  Time per token: 0.37 seconds\n",
      "\n",
      "🚀 CUDA Notes:\n",
      "  - Using dedicated GPU memory\n",
      "  - Consider increasing batch size for better throughput\n"
     ]
    },
    {
     "name": "stderr",
     "output_type": "stream",
     "text": [
      "\n"
     ]
    }
   ],
   "source": [
    "import time\n",
    "\n",
    "def benchmark_interpretation(selfie, prompt, num_tokens=5, num_trials=3):\n",
    "    \"\"\"Benchmark interpretation performance.\"\"\"\n",
    "    times = []\n",
    "    \n",
    "    for _ in range(num_trials):\n",
    "        start_time = time.time()\n",
    "        \n",
    "        # Simple interpretation task\n",
    "        tokens_to_interpret = [(8, i) for i in range(num_tokens)]\n",
    "        results = selfie.interpret(\n",
    "            original_prompt=prompt,\n",
    "            interpretation_prompt=concept_prompt,\n",
    "            tokens_to_interpret=tokens_to_interpret,\n",
    "            max_new_tokens=5\n",
    "        )\n",
    "        \n",
    "        end_time = time.time()\n",
    "        times.append(end_time - start_time)\n",
    "    \n",
    "    return {\n",
    "        'mean_time': np.mean(times),\n",
    "        'std_time': np.std(times),\n",
    "        'times': times\n",
    "    }\n",
    "\n",
    "# Benchmark performance\n",
    "benchmark_prompt = \"The future of artificial intelligence looks very promising\"\n",
    "\n",
    "print(f\"⚡ Performance Benchmark\")\n",
    "print(f\"Device: {selfie.device}\")\n",
    "print(f\"Model: Gemma2 2B\")\n",
    "print(f\"Prompt: '{benchmark_prompt}'\")\n",
    "print(\"\\nRunning benchmark (this may take a minute)...\")\n",
    "\n",
    "perf_results = benchmark_interpretation(selfie, benchmark_prompt, num_tokens=3, num_trials=3)\n",
    "\n",
    "print(f\"\\n📊 Results:\")\n",
    "print(f\"  Average time: {perf_results['mean_time']:.2f} ± {perf_results['std_time']:.2f} seconds\")\n",
    "print(f\"  Individual times: {[f'{t:.2f}s' for t in perf_results['times']]}\")\n",
    "print(f\"  Time per token: {perf_results['mean_time']/3:.2f} seconds\")\n",
    "\n",
    "# Device-specific notes\n",
    "if selfie.device == \"mps\":\n",
    "    print(\"\\n🍎 MPS Notes:\")\n",
    "    print(\"  - Performance optimized for Apple Silicon\")\n",
    "    print(\"  - Memory shared with system RAM\")\n",
    "elif selfie.device == \"cuda\":\n",
    "    print(\"\\n🚀 CUDA Notes:\")\n",
    "    print(\"  - Using dedicated GPU memory\")\n",
    "    print(\"  - Consider increasing batch size for better throughput\")\n",
    "else:\n",
    "    print(\"\\n💻 CPU Notes:\")\n",
    "    print(\"  - Consider using MPS/CUDA for better performance\")\n",
    "    print(\"  - Performance adequate for small-scale experiments\")"
   ]
  },
  {
   "cell_type": "markdown",
   "metadata": {},
   "source": [
    "## Advanced Analysis: Attention Patterns vs Interpretations\n",
    "\n",
    "Let's explore how interpretations relate to the model's internal attention patterns."
   ]
  },
  {
   "cell_type": "code",
   "execution_count": 18,
   "metadata": {},
   "outputs": [
    {
     "name": "stdout",
     "output_type": "stream",
     "text": [
      "🧠 Complex Analysis: 'The groundbreaking research revolutionized our understanding of consciousness and artificial intelligence.'\n",
      "\n",
      "🔤 Tokens (14):\n",
      "   0: '<bos>'\n",
      "   1: 'The'\n",
      "   2: 'groundbreaking'\n",
      "   3: 'research'\n",
      "   4: 'revolution'\n",
      "   5: 'ized'\n",
      "   6: 'our'\n",
      "   7: 'understanding'\n",
      "   8: 'of'\n",
      "   9: 'consciousness'\n",
      "  10: 'and'\n",
      "  11: 'artificial'\n",
      "  12: 'intelligence'\n",
      "  13: '.'\n",
      "\n",
      "🎯 Key tokens for analysis:\n",
      "  groundbreaking: position 1 -> 'The'\n",
      "  research: position 2 -> 'groundbreaking'\n",
      "  revolutionized: position 3 -> 'research'\n",
      "  consciousness: position 10 -> 'and'\n",
      "  intelligence: position 12 -> 'intelligence'\n"
     ]
    }
   ],
   "source": [
    "# Analyze a complex sentence with multiple interesting tokens\n",
    "complex_prompt = \"The groundbreaking research revolutionized our understanding of consciousness and artificial intelligence.\"\n",
    "\n",
    "print(f\"🧠 Complex Analysis: '{complex_prompt}'\")\n",
    "\n",
    "# Tokenize and identify key tokens\n",
    "tokens = selfie.model.tokenizer.encode(complex_prompt)\n",
    "token_strings = [selfie.model.tokenizer.decode([t]) for t in tokens]\n",
    "\n",
    "print(f\"\\n🔤 Tokens ({len(tokens)}):\")\n",
    "for i, (token_id, token_str) in enumerate(zip(tokens, token_strings)):\n",
    "    print(f\"  {i:2d}: '{token_str.strip()}'\")\n",
    "\n",
    "# Select key tokens for analysis\n",
    "key_tokens = {\n",
    "    \"groundbreaking\": 1,\n",
    "    \"research\": 2, \n",
    "    \"revolutionized\": 3,\n",
    "    \"consciousness\": -4,  # Near end\n",
    "    \"intelligence\": -2    # Near end\n",
    "}\n",
    "\n",
    "# Convert negative indices\n",
    "for name, pos in key_tokens.items():\n",
    "    if pos < 0:\n",
    "        key_tokens[name] = len(tokens) + pos\n",
    "\n",
    "print(f\"\\n🎯 Key tokens for analysis:\")\n",
    "for name, pos in key_tokens.items():\n",
    "    if 0 <= pos < len(token_strings):\n",
    "        print(f\"  {name}: position {pos} -> '{token_strings[pos].strip()}'\")"
   ]
  },
  {
   "cell_type": "code",
   "execution_count": 19,
   "metadata": {},
   "outputs": [
    {
     "name": "stdout",
     "output_type": "stream",
     "text": [
      "🔍 Layer Comparison for 'and':\n",
      "============================================================\n"
     ]
    },
    {
     "name": "stderr",
     "output_type": "stream",
     "text": [
      "Analyzing layers:   0%|          | 0/5 [00:00<?, ?it/s]"
     ]
    },
    {
     "name": "stdout",
     "output_type": "stream",
     "text": [
      "Interpreting 'The groundbreaking research revolutionized our understanding of consciousness and artificial intelligence.' with 'This represents the concept of _ '\n"
     ]
    },
    {
     "name": "stderr",
     "output_type": "stream",
     "text": [
      "100%|██████████| 1/1 [00:00<00:00,  1.51it/s]\n",
      "Analyzing layers:  20%|██        | 1/5 [00:00<00:03,  1.29it/s]"
     ]
    },
    {
     "name": "stdout",
     "output_type": "stream",
     "text": [
      "Layer  4: _ in the context of the human body.\n",
      "Interpreting 'The groundbreaking research revolutionized our understanding of consciousness and artificial intelligence.' with 'This represents the concept of _ '\n"
     ]
    },
    {
     "name": "stderr",
     "output_type": "stream",
     "text": [
      "100%|██████████| 1/1 [00:00<00:00,  1.50it/s]\n",
      "Analyzing layers:  40%|████      | 2/5 [00:01<00:02,  1.29it/s]"
     ]
    },
    {
     "name": "stdout",
     "output_type": "stream",
     "text": [
      "Layer  8: its application in the field of _ .\n",
      "\n",
      "**\n",
      "Interpreting 'The groundbreaking research revolutionized our understanding of consciousness and artificial intelligence.' with 'This represents the concept of _ '\n"
     ]
    },
    {
     "name": "stderr",
     "output_type": "stream",
     "text": [
      "100%|██████████| 1/1 [00:00<00:00,  1.48it/s]\n",
      "Analyzing layers:  60%|██████    | 3/5 [00:02<00:01,  1.28it/s]"
     ]
    },
    {
     "name": "stdout",
     "output_type": "stream",
     "text": [
      "Layer 12: the _ of the _ .\n",
      "\n",
      "**Concept:**\n",
      "Interpreting 'The groundbreaking research revolutionized our understanding of consciousness and artificial intelligence.' with 'This represents the concept of _ '\n"
     ]
    },
    {
     "name": "stderr",
     "output_type": "stream",
     "text": [
      "100%|██████████| 1/1 [00:00<00:00,  1.50it/s]\n",
      "Analyzing layers:  80%|████████  | 4/5 [00:03<00:00,  1.29it/s]"
     ]
    },
    {
     "name": "stdout",
     "output_type": "stream",
     "text": [
      "Layer 16: the _ of _ .\n",
      "\n",
      "**Concept:**\n",
      "Interpreting 'The groundbreaking research revolutionized our understanding of consciousness and artificial intelligence.' with 'This represents the concept of _ '\n"
     ]
    },
    {
     "name": "stderr",
     "output_type": "stream",
     "text": [
      "100%|██████████| 1/1 [00:00<00:00,  1.50it/s]\n",
      "Analyzing layers: 100%|██████████| 5/5 [00:03<00:00,  1.28it/s]"
     ]
    },
    {
     "name": "stdout",
     "output_type": "stream",
     "text": [
      "Layer 20: consciousness.\n",
      "\n",
      "**What is Consciousness?**\n",
      "\n",
      "📈 Observations:\n",
      "  - Early layers: More surface-level/syntactic representations\n",
      "  - Middle layers: Semantic concepts emerge\n",
      "  - Later layers: Abstract/contextual understanding\n"
     ]
    },
    {
     "name": "stderr",
     "output_type": "stream",
     "text": [
      "\n"
     ]
    }
   ],
   "source": [
    "# Interpret the same tokens from different layers\n",
    "layer_comparison = [4, 8, 12, 16, 20]  # Early, middle, late layers\n",
    "target_token = key_tokens[\"consciousness\"]  # Focus on \"consciousness\"\n",
    "\n",
    "print(f\"🔍 Layer Comparison for '{token_strings[target_token].strip()}':\")\n",
    "print(\"=\" * 60)\n",
    "\n",
    "layer_interpretations = {}\n",
    "\n",
    "for layer in tqdm(layer_comparison, desc=\"Analyzing layers\"):\n",
    "    try:\n",
    "        result = selfie.interpret(\n",
    "            original_prompt=complex_prompt,\n",
    "            interpretation_prompt=concept_prompt,\n",
    "            tokens_to_interpret=[(layer, target_token)],\n",
    "            max_new_tokens=10\n",
    "        )\n",
    "        \n",
    "        interpretation = result['interpretation'][0].strip()\n",
    "        layer_interpretations[layer] = interpretation\n",
    "        \n",
    "        print(f\"Layer {layer:2d}: {interpretation}\")\n",
    "        \n",
    "    except Exception as e:\n",
    "        print(f\"Layer {layer:2d}: ❌ Error - {e}\")\n",
    "        layer_interpretations[layer] = \"[Error]\"\n",
    "\n",
    "print(\"\\n📈 Observations:\")\n",
    "print(\"  - Early layers: More surface-level/syntactic representations\")\n",
    "print(\"  - Middle layers: Semantic concepts emerge\")\n",
    "print(\"  - Later layers: Abstract/contextual understanding\")"
   ]
  },
  {
   "cell_type": "markdown",
   "metadata": {},
   "source": [
    "## Summary and Insights\n",
    "\n",
    "Let's summarize what we've learned about Gemma2 2B through our interpretation experiments."
   ]
  },
  {
   "cell_type": "code",
   "execution_count": 20,
   "metadata": {},
   "outputs": [
    {
     "name": "stdout",
     "output_type": "stream",
     "text": [
      "📋 Summary of Gemma2 2B Interpretation Experiments\n",
      "============================================================\n",
      "\n",
      "🔧 Technical Details:\n",
      "  Model: Gemma2 2B-IT\n",
      "  Device: cuda\n",
      "  Layers: 26\n",
      "  Vocab size: 256,000\n",
      "\n",
      "⚡ Performance:\n",
      "  Avg interpretation time: 1.12s\n",
      "  Time per token: 0.37s\n",
      "\n",
      "🧠 Key Insights:\n",
      "  ✅ Automatic MPS detection works seamlessly\n",
      "  ✅ Layer-wise representations show clear progression\n",
      "  ✅ Vector arithmetic reveals semantic relationships\n",
      "  ✅ Custom prompts enable targeted interpretation\n",
      "  ✅ Model handles both concrete and abstract concepts well\n",
      "\n",
      "🎯 Best Practices:\n",
      "  • Use layers 8-16 for semantic interpretations\n",
      "  • Batch smaller interpretation requests for efficiency\n",
      "  • Custom prompts yield more targeted insights\n",
      "  • MPS provides good performance on Apple Silicon\n",
      "\n",
      "🚀 Next Steps:\n",
      "  • Try with your own text and interpretation prompts\n",
      "  • Experiment with different layer combinations\n",
      "  • Compare with other model architectures\n",
      "  • Explore intervention techniques for model steering\n",
      "\n",
      "✨ Experiment completed successfully! ✨\n"
     ]
    }
   ],
   "source": [
    "# Create a summary of our findings\n",
    "print(\"📋 Summary of Gemma2 2B Interpretation Experiments\")\n",
    "print(\"=\" * 60)\n",
    "\n",
    "print(f\"\\n🔧 Technical Details:\")\n",
    "print(f\"  Model: Gemma2 2B-IT\")\n",
    "print(f\"  Device: {selfie.device}\")\n",
    "print(f\"  Layers: {len(selfie.layer_paths)}\")\n",
    "print(f\"  Vocab size: {len(selfie.model.tokenizer):,}\")\n",
    "\n",
    "print(f\"\\n⚡ Performance:\")\n",
    "if 'perf_results' in locals():\n",
    "    print(f\"  Avg interpretation time: {perf_results['mean_time']:.2f}s\")\n",
    "    print(f\"  Time per token: {perf_results['mean_time']/3:.2f}s\")\n",
    "else:\n",
    "    print(\"  [Performance data not available]\")\n",
    "\n",
    "print(f\"\\n🧠 Key Insights:\")\n",
    "print(\"  ✅ Automatic MPS detection works seamlessly\")\n",
    "print(\"  ✅ Layer-wise representations show clear progression\")\n",
    "print(\"  ✅ Vector arithmetic reveals semantic relationships\")\n",
    "print(\"  ✅ Custom prompts enable targeted interpretation\")\n",
    "print(\"  ✅ Model handles both concrete and abstract concepts well\")\n",
    "\n",
    "print(f\"\\n🎯 Best Practices:\")\n",
    "print(\"  • Use layers 8-16 for semantic interpretations\")\n",
    "print(\"  • Batch smaller interpretation requests for efficiency\")\n",
    "print(\"  • Custom prompts yield more targeted insights\")\n",
    "print(\"  • MPS provides good performance on Apple Silicon\")\n",
    "\n",
    "print(f\"\\n🚀 Next Steps:\")\n",
    "print(\"  • Try with your own text and interpretation prompts\")\n",
    "print(\"  • Experiment with different layer combinations\")\n",
    "print(\"  • Compare with other model architectures\")\n",
    "print(\"  • Explore intervention techniques for model steering\")\n",
    "\n",
    "print(\"\\n✨ Experiment completed successfully! ✨\")"
   ]
  },
  {
   "cell_type": "markdown",
   "metadata": {},
   "source": [
    "## Interactive Exploration\n",
    "\n",
    "Use this section to experiment with your own prompts and interpretations!"
   ]
  },
  {
   "cell_type": "code",
   "execution_count": 21,
   "metadata": {},
   "outputs": [
    {
     "name": "stdout",
     "output_type": "stream",
     "text": [
      "🔬 Your Experiment:\n",
      "Prompt: 'Climate change requires immediate global action and innovative solutions.'\n",
      "\n",
      "Tokens:\n",
      "  0: '<bos>'\n",
      "  1: 'Climate'\n",
      "  2: 'change'\n",
      "  3: 'requires'\n",
      "  4: 'immediate'\n",
      "  5: 'global'\n",
      "  6: 'action'\n",
      "  7: 'and'\n",
      "  8: 'innovative'\n",
      "  9: 'solutions'\n",
      "  ... and 1 more\n",
      "Interpreting 'Climate change requires immediate global action and innovative solutions.' with 'This represents the concept of _ '\n"
     ]
    },
    {
     "name": "stderr",
     "output_type": "stream",
     "text": [
      "100%|██████████| 1/1 [00:05<00:00,  5.87s/it]"
     ]
    },
    {
     "name": "stdout",
     "output_type": "stream",
     "text": [
      "\n",
      "🤖 Your Results:\n",
      "  Layer 20, Token -1 ('.'): **Sustainable Development**_.\n",
      "\n",
      "**Sustainable Development** is a holistic approach to development that aims to meet the needs of the present without compromising the ability\n",
      "  Layer 18, Token -2 (' solutions'): _ .\n",
      "\n",
      "**Concept:**  _Solutions_\n",
      "\n",
      "**Explanation:**\n",
      "\n",
      "The phrase \"solutions\" refers to the process of finding ways to address a\n",
      "  Layer 15, Token -3 (' innovative'): solutions_ in the context of the Sustainable Development Goals (SDGs).\n",
      "\n",
      "**Innovative solutions** are those that address the complex challenges of achieving the SDGs\n",
      "\n",
      "💡 Try modifying the variables above and re-running this cell!\n"
     ]
    },
    {
     "name": "stderr",
     "output_type": "stream",
     "text": [
      "\n"
     ]
    }
   ],
   "source": [
    "# Interactive experimentation cell\n",
    "# Modify these variables to explore your own ideas!\n",
    "\n",
    "# Your custom prompt here\n",
    "your_prompt = \"Climate change requires immediate global action and innovative solutions.\"\n",
    "\n",
    "# Choose tokens to interpret (adjust based on your prompt)\n",
    "your_tokens = [(20, -1), (18, -2), (15, -3)]  # (layer, token_position)\n",
    "\n",
    "# Choose interpretation style\n",
    "your_interpretation_prompt = concept_prompt  # or sentiment_prompt, entity_prompt, or custom_prompts['emotion']\n",
    "\n",
    "print(f\"🔬 Your Experiment:\")\n",
    "print(f\"Prompt: '{your_prompt}'\")\n",
    "\n",
    "# Show tokenization\n",
    "your_tokens_list = selfie.model.tokenizer.encode(your_prompt)\n",
    "your_token_strings = [selfie.model.tokenizer.decode([t]) for t in your_tokens_list]\n",
    "print(f\"\\nTokens:\")\n",
    "for i, token_str in enumerate(your_token_strings[:10]):  # Show first 10\n",
    "    print(f\"  {i}: '{token_str.strip()}'\")\n",
    "if len(your_token_strings) > 10:\n",
    "    print(f\"  ... and {len(your_token_strings) - 10} more\")\n",
    "\n",
    "# Run your interpretation\n",
    "try:\n",
    "    your_results = selfie.interpret(\n",
    "        original_prompt=your_prompt,\n",
    "        interpretation_prompt=your_interpretation_prompt,\n",
    "        tokens_to_interpret=your_tokens,\n",
    "        max_new_tokens=30\n",
    "    )\n",
    "    \n",
    "    print(f\"\\n🤖 Your Results:\")\n",
    "    for i in range(len(your_results['interpretation'])):\n",
    "        layer = your_results['layer'][i]\n",
    "        token_pos = your_results['token'][i]\n",
    "        token_text = your_results['token_decoded'][i] \n",
    "        interpretation = your_results['interpretation'][i].strip()\n",
    "        \n",
    "        print(f\"  Layer {layer}, Token {token_pos} ('{token_text}'): {interpretation}\")\n",
    "        \n",
    "except Exception as e:\n",
    "    print(f\"❌ Error in your experiment: {e}\")\n",
    "    print(\"Try adjusting the layer/token positions or using a different prompt!\")\n",
    "\n",
    "print(\"\\n💡 Try modifying the variables above and re-running this cell!\")"
   ]
  },
  {
   "cell_type": "markdown",
   "metadata": {},
   "source": [
    "---\n",
    "\n",
    "## Conclusion\n",
    "\n",
    "This notebook demonstrated the power of **NNsight Selfie** for interpreting neural network representations in Google's Gemma2 2B model. Key takeaways:\n",
    "\n",
    "1. **Seamless Device Detection**: Automatic MPS support makes it easy to use Apple Silicon Macs\n",
    "2. **Model Agnostic**: Works with Gemma2 just as well as GPT, LLaMA, or other models\n",
    "3. **Rich Interpretations**: Different layers reveal different aspects of understanding\n",
    "4. **Vector Arithmetic**: Semantic relationships encoded in activation space\n",
    "5. **Flexible Framework**: Custom prompts enable targeted exploration\n",
    "\n",
    "**Next Steps**: Try this approach with your own models, prompts, and research questions!\n",
    "\n",
    "**Repository**: [NNsight Selfie on GitHub](https://github.com/your-repo/nnsight-selfie)\n",
    "\n",
    "---"
   ]
  }
 ],
 "metadata": {
  "kernelspec": {
   "display_name": ".venv",
   "language": "python",
   "name": "python3"
  },
  "language_info": {
   "codemirror_mode": {
    "name": "ipython",
    "version": 3
   },
   "file_extension": ".py",
   "mimetype": "text/x-python",
   "name": "python",
   "nbconvert_exporter": "python",
   "pygments_lexer": "ipython3",
   "version": "3.12.3"
  }
 },
 "nbformat": 4,
 "nbformat_minor": 4
}
